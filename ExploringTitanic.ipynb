{
 "cells": [
  {
   "cell_type": "code",
   "execution_count": 2,
   "metadata": {
    "id": "ly0FuXnzGune"
   },
   "outputs": [],
   "source": [
    "import pandas as pd\n",
    "import seaborn as sns"
   ]
  },
  {
   "cell_type": "code",
   "execution_count": 3,
   "metadata": {
    "colab": {
     "base_uri": "https://localhost:8080/",
     "height": 336
    },
    "id": "2mbX6Ke7X4aD",
    "outputId": "edd0eab0-70c5-4b32-b229-2af392c83327"
   },
   "outputs": [],
   "source": [
    "titanic = pd.read_csv(\"titanic.csv\")"
   ]
  },
  {
   "cell_type": "code",
   "execution_count": 4,
   "metadata": {
    "colab": {
     "base_uri": "https://localhost:8080/",
     "height": 169
    },
    "id": "KK_kXMqJYHDB",
    "outputId": "59a5a22d-cc2f-456a-f8c9-3b3ad8904c23"
   },
   "outputs": [
    {
     "data": {
      "text/html": [
       "<div>\n",
       "<style scoped>\n",
       "    .dataframe tbody tr th:only-of-type {\n",
       "        vertical-align: middle;\n",
       "    }\n",
       "\n",
       "    .dataframe tbody tr th {\n",
       "        vertical-align: top;\n",
       "    }\n",
       "\n",
       "    .dataframe thead th {\n",
       "        text-align: right;\n",
       "    }\n",
       "</style>\n",
       "<table border=\"1\" class=\"dataframe\">\n",
       "  <thead>\n",
       "    <tr style=\"text-align: right;\">\n",
       "      <th></th>\n",
       "      <th>Name</th>\n",
       "      <th>Sex</th>\n",
       "      <th>Age</th>\n",
       "      <th>Pclass</th>\n",
       "      <th>SibSp</th>\n",
       "      <th>Parch</th>\n",
       "      <th>Ticket</th>\n",
       "      <th>Fare</th>\n",
       "      <th>Cabin</th>\n",
       "      <th>Embarked</th>\n",
       "      <th>Survived</th>\n",
       "    </tr>\n",
       "  </thead>\n",
       "  <tbody>\n",
       "    <tr>\n",
       "      <th>0</th>\n",
       "      <td>Karaic, Mr. Milan</td>\n",
       "      <td>male</td>\n",
       "      <td>30.0</td>\n",
       "      <td>3</td>\n",
       "      <td>0</td>\n",
       "      <td>0</td>\n",
       "      <td>349246</td>\n",
       "      <td>7.8958</td>\n",
       "      <td>NaN</td>\n",
       "      <td>S</td>\n",
       "      <td>0</td>\n",
       "    </tr>\n",
       "    <tr>\n",
       "      <th>1</th>\n",
       "      <td>Dean, Mrs. Bertram</td>\n",
       "      <td>female</td>\n",
       "      <td>33.0</td>\n",
       "      <td>3</td>\n",
       "      <td>1</td>\n",
       "      <td>2</td>\n",
       "      <td>C.A. 2315</td>\n",
       "      <td>20.5750</td>\n",
       "      <td>NaN</td>\n",
       "      <td>S</td>\n",
       "      <td>1</td>\n",
       "    </tr>\n",
       "    <tr>\n",
       "      <th>2</th>\n",
       "      <td>Rice, Mrs. William</td>\n",
       "      <td>female</td>\n",
       "      <td>39.0</td>\n",
       "      <td>3</td>\n",
       "      <td>0</td>\n",
       "      <td>5</td>\n",
       "      <td>382652</td>\n",
       "      <td>29.1250</td>\n",
       "      <td>NaN</td>\n",
       "      <td>Q</td>\n",
       "      <td>0</td>\n",
       "    </tr>\n",
       "    <tr>\n",
       "      <th>3</th>\n",
       "      <td>Davidson, Mrs. Thornton</td>\n",
       "      <td>female</td>\n",
       "      <td>27.0</td>\n",
       "      <td>1</td>\n",
       "      <td>1</td>\n",
       "      <td>2</td>\n",
       "      <td>F.C. 12750</td>\n",
       "      <td>52.0000</td>\n",
       "      <td>B71</td>\n",
       "      <td>S</td>\n",
       "      <td>1</td>\n",
       "    </tr>\n",
       "    <tr>\n",
       "      <th>4</th>\n",
       "      <td>Ridsdale, Miss. Lucy</td>\n",
       "      <td>female</td>\n",
       "      <td>50.0</td>\n",
       "      <td>2</td>\n",
       "      <td>0</td>\n",
       "      <td>0</td>\n",
       "      <td>W./C. 14258</td>\n",
       "      <td>10.5000</td>\n",
       "      <td>NaN</td>\n",
       "      <td>S</td>\n",
       "      <td>1</td>\n",
       "    </tr>\n",
       "  </tbody>\n",
       "</table>\n",
       "</div>"
      ],
      "text/plain": [
       "                      Name     Sex   Age  Pclass  SibSp  Parch       Ticket  \\\n",
       "0        Karaic, Mr. Milan    male  30.0       3      0      0       349246   \n",
       "1       Dean, Mrs. Bertram  female  33.0       3      1      2    C.A. 2315   \n",
       "2       Rice, Mrs. William  female  39.0       3      0      5       382652   \n",
       "3  Davidson, Mrs. Thornton  female  27.0       1      1      2   F.C. 12750   \n",
       "4     Ridsdale, Miss. Lucy  female  50.0       2      0      0  W./C. 14258   \n",
       "\n",
       "      Fare Cabin Embarked  Survived  \n",
       "0   7.8958   NaN        S         0  \n",
       "1  20.5750   NaN        S         1  \n",
       "2  29.1250   NaN        Q         0  \n",
       "3  52.0000   B71        S         1  \n",
       "4  10.5000   NaN        S         1  "
      ]
     },
     "execution_count": 4,
     "metadata": {},
     "output_type": "execute_result"
    }
   ],
   "source": [
    "titanic.head()"
   ]
  },
  {
   "cell_type": "markdown",
   "metadata": {
    "id": "6DIHCUYLYR9e"
   },
   "source": [
    "**Preliminary analysis**\n",
    "\n",
    "How many rows are there?\n",
    "\n",
    "How many columns are there?"
   ]
  },
  {
   "cell_type": "code",
   "execution_count": 5,
   "metadata": {
    "colab": {
     "base_uri": "https://localhost:8080/"
    },
    "id": "B6aZOspLYPGH",
    "outputId": "e7839920-10f8-48be-d68d-752f3d566cbe"
   },
   "outputs": [
    {
     "data": {
      "text/plain": [
       "(1309, 11)"
      ]
     },
     "execution_count": 5,
     "metadata": {},
     "output_type": "execute_result"
    }
   ],
   "source": [
    "titanic.shape"
   ]
  },
  {
   "cell_type": "code",
   "execution_count": 6,
   "metadata": {
    "colab": {
     "base_uri": "https://localhost:8080/",
     "height": 300
    },
    "id": "82Kuh7bmPOZP",
    "outputId": "01537971-9301-47e5-8074-c09263f54ce4"
   },
   "outputs": [
    {
     "data": {
      "text/html": [
       "<div>\n",
       "<style scoped>\n",
       "    .dataframe tbody tr th:only-of-type {\n",
       "        vertical-align: middle;\n",
       "    }\n",
       "\n",
       "    .dataframe tbody tr th {\n",
       "        vertical-align: top;\n",
       "    }\n",
       "\n",
       "    .dataframe thead th {\n",
       "        text-align: right;\n",
       "    }\n",
       "</style>\n",
       "<table border=\"1\" class=\"dataframe\">\n",
       "  <thead>\n",
       "    <tr style=\"text-align: right;\">\n",
       "      <th></th>\n",
       "      <th>Age</th>\n",
       "      <th>Pclass</th>\n",
       "      <th>SibSp</th>\n",
       "      <th>Parch</th>\n",
       "      <th>Fare</th>\n",
       "      <th>Survived</th>\n",
       "    </tr>\n",
       "  </thead>\n",
       "  <tbody>\n",
       "    <tr>\n",
       "      <th>count</th>\n",
       "      <td>1046.000000</td>\n",
       "      <td>1309.000000</td>\n",
       "      <td>1309.000000</td>\n",
       "      <td>1309.000000</td>\n",
       "      <td>1308.000000</td>\n",
       "      <td>1309.000000</td>\n",
       "    </tr>\n",
       "    <tr>\n",
       "      <th>mean</th>\n",
       "      <td>29.881138</td>\n",
       "      <td>2.294882</td>\n",
       "      <td>0.498854</td>\n",
       "      <td>0.385027</td>\n",
       "      <td>33.295479</td>\n",
       "      <td>0.381971</td>\n",
       "    </tr>\n",
       "    <tr>\n",
       "      <th>std</th>\n",
       "      <td>14.413493</td>\n",
       "      <td>0.837836</td>\n",
       "      <td>1.041658</td>\n",
       "      <td>0.865560</td>\n",
       "      <td>51.758668</td>\n",
       "      <td>0.486055</td>\n",
       "    </tr>\n",
       "    <tr>\n",
       "      <th>min</th>\n",
       "      <td>0.170000</td>\n",
       "      <td>1.000000</td>\n",
       "      <td>0.000000</td>\n",
       "      <td>0.000000</td>\n",
       "      <td>0.000000</td>\n",
       "      <td>0.000000</td>\n",
       "    </tr>\n",
       "    <tr>\n",
       "      <th>25%</th>\n",
       "      <td>21.000000</td>\n",
       "      <td>2.000000</td>\n",
       "      <td>0.000000</td>\n",
       "      <td>0.000000</td>\n",
       "      <td>7.895800</td>\n",
       "      <td>0.000000</td>\n",
       "    </tr>\n",
       "    <tr>\n",
       "      <th>50%</th>\n",
       "      <td>28.000000</td>\n",
       "      <td>3.000000</td>\n",
       "      <td>0.000000</td>\n",
       "      <td>0.000000</td>\n",
       "      <td>14.454200</td>\n",
       "      <td>0.000000</td>\n",
       "    </tr>\n",
       "    <tr>\n",
       "      <th>75%</th>\n",
       "      <td>39.000000</td>\n",
       "      <td>3.000000</td>\n",
       "      <td>1.000000</td>\n",
       "      <td>0.000000</td>\n",
       "      <td>31.275000</td>\n",
       "      <td>1.000000</td>\n",
       "    </tr>\n",
       "    <tr>\n",
       "      <th>max</th>\n",
       "      <td>80.000000</td>\n",
       "      <td>3.000000</td>\n",
       "      <td>8.000000</td>\n",
       "      <td>9.000000</td>\n",
       "      <td>512.329200</td>\n",
       "      <td>1.000000</td>\n",
       "    </tr>\n",
       "  </tbody>\n",
       "</table>\n",
       "</div>"
      ],
      "text/plain": [
       "               Age       Pclass        SibSp        Parch         Fare  \\\n",
       "count  1046.000000  1309.000000  1309.000000  1309.000000  1308.000000   \n",
       "mean     29.881138     2.294882     0.498854     0.385027    33.295479   \n",
       "std      14.413493     0.837836     1.041658     0.865560    51.758668   \n",
       "min       0.170000     1.000000     0.000000     0.000000     0.000000   \n",
       "25%      21.000000     2.000000     0.000000     0.000000     7.895800   \n",
       "50%      28.000000     3.000000     0.000000     0.000000    14.454200   \n",
       "75%      39.000000     3.000000     1.000000     0.000000    31.275000   \n",
       "max      80.000000     3.000000     8.000000     9.000000   512.329200   \n",
       "\n",
       "          Survived  \n",
       "count  1309.000000  \n",
       "mean      0.381971  \n",
       "std       0.486055  \n",
       "min       0.000000  \n",
       "25%       0.000000  \n",
       "50%       0.000000  \n",
       "75%       1.000000  \n",
       "max       1.000000  "
      ]
     },
     "execution_count": 6,
     "metadata": {},
     "output_type": "execute_result"
    }
   ],
   "source": [
    "titanic.describe()"
   ]
  },
  {
   "cell_type": "code",
   "execution_count": 7,
   "metadata": {
    "colab": {
     "base_uri": "https://localhost:8080/",
     "height": 175
    },
    "id": "gwuj-eHLRjvX",
    "outputId": "dc1b8f80-1423-4734-b82b-43e521f7dba0"
   },
   "outputs": [
    {
     "data": {
      "text/html": [
       "<div>\n",
       "<style scoped>\n",
       "    .dataframe tbody tr th:only-of-type {\n",
       "        vertical-align: middle;\n",
       "    }\n",
       "\n",
       "    .dataframe tbody tr th {\n",
       "        vertical-align: top;\n",
       "    }\n",
       "\n",
       "    .dataframe thead th {\n",
       "        text-align: right;\n",
       "    }\n",
       "</style>\n",
       "<table border=\"1\" class=\"dataframe\">\n",
       "  <thead>\n",
       "    <tr style=\"text-align: right;\">\n",
       "      <th></th>\n",
       "      <th>Name</th>\n",
       "      <th>Sex</th>\n",
       "      <th>Ticket</th>\n",
       "      <th>Cabin</th>\n",
       "      <th>Embarked</th>\n",
       "    </tr>\n",
       "  </thead>\n",
       "  <tbody>\n",
       "    <tr>\n",
       "      <th>count</th>\n",
       "      <td>1309</td>\n",
       "      <td>1309</td>\n",
       "      <td>1309</td>\n",
       "      <td>295</td>\n",
       "      <td>1307</td>\n",
       "    </tr>\n",
       "    <tr>\n",
       "      <th>unique</th>\n",
       "      <td>1309</td>\n",
       "      <td>2</td>\n",
       "      <td>929</td>\n",
       "      <td>186</td>\n",
       "      <td>3</td>\n",
       "    </tr>\n",
       "    <tr>\n",
       "      <th>top</th>\n",
       "      <td>Karaic, Mr. Milan</td>\n",
       "      <td>male</td>\n",
       "      <td>CA. 2343</td>\n",
       "      <td>C23 C25 C27</td>\n",
       "      <td>S</td>\n",
       "    </tr>\n",
       "    <tr>\n",
       "      <th>freq</th>\n",
       "      <td>1</td>\n",
       "      <td>843</td>\n",
       "      <td>11</td>\n",
       "      <td>6</td>\n",
       "      <td>914</td>\n",
       "    </tr>\n",
       "  </tbody>\n",
       "</table>\n",
       "</div>"
      ],
      "text/plain": [
       "                     Name   Sex    Ticket        Cabin Embarked\n",
       "count                1309  1309      1309          295     1307\n",
       "unique               1309     2       929          186        3\n",
       "top     Karaic, Mr. Milan  male  CA. 2343  C23 C25 C27        S\n",
       "freq                    1   843        11            6      914"
      ]
     },
     "execution_count": 7,
     "metadata": {},
     "output_type": "execute_result"
    }
   ],
   "source": [
    "titanic.describe(include = 'object') #to see a summary statistics of object datatype  | shows the unique values in each column"
   ]
  },
  {
   "cell_type": "code",
   "execution_count": 18,
   "metadata": {
    "colab": {
     "base_uri": "https://localhost:8080/",
     "height": 204
    },
    "id": "R64KD8v-GR7p",
    "outputId": "739bcb19-2458-4113-b703-67914ba0904e"
   },
   "outputs": [
    {
     "name": "stdout",
     "output_type": "stream",
     "text": [
      "Name\n",
      "['Karaic, Mr. Milan' 'Dean, Mrs. Bertram' 'Rice, Mrs. William' ...\n",
      " 'Gustafsson, Mr. Karl Gideon' 'Gustafsson, Mr. Anders Vilhelm'\n",
      " 'McDermott, Miss. Brigdet Delia']\n",
      "_ _ _ _ _ _ _ _ _ _ _ _ _ _ _ _ _ _ _ _ _ _ _ _ _ _ _ _ _ _ _ _ _ _ _ _ _ _ _ _ _ _ _ _ _ _ _ _ _ _ \n",
      "Sex\n",
      "['male' 'female']\n",
      "_ _ _ _ _ _ _ _ _ _ _ _ _ _ _ _ _ _ _ _ _ _ _ _ _ _ _ _ _ _ _ _ _ _ _ _ _ _ _ _ _ _ _ _ _ _ _ _ _ _ \n",
      "Ticket\n",
      "['349246' 'C.A. 2315' '382652' 'F.C. 12750' 'W./C. 14258' 'PC 17558'\n",
      " '371110' '239856' '334914' 'C.A. 33595' '347088' '110413' 'SC/Paris 2123'\n",
      " '239853' '250647' 'SC/PARIS 2148' '237216' '7267' 'F.C.C. 13528' '250644'\n",
      " 'F.C.C. 13531' 'C.A. 17248' '234818' '334912' '349213' 'W./C. 6608'\n",
      " '365222' '350035' '113510' '35273' 'PC 17485' '28404' '330920' '29011'\n",
      " '220845' '36928' '112901' 'WE/P 5735' 'A4. 54510' '35281' '243847' '7545'\n",
      " 'PC 17572' 'PC 17608' 'C 7076' '113776' '1601' '236854' '367228' '250648'\n",
      " 'SC/PARIS 2131' 'S.O./P.P. 3' '2669' '347087' '11765' '2223' '345783'\n",
      " 'C.A. 24579' '349207' '113505' '228414' '24160' '237736' '350405' '2668'\n",
      " '349232' '113800' '330979' 'SOTON/O.Q. 3101306' '111426' '26360'\n",
      " 'C.A. 37671' '3701' '250650' 'SOTON/OQ 392082' '350026' 'CA. 2343'\n",
      " '350406' '11813' 'SC/AH 3085' '36568' '347742' '330844' '343276' '347077'\n",
      " '342826' '370375' '349240' 'A/5. 3336' '376566' '349223' '347054'\n",
      " 'SOTON/O.Q. 3101307' 'STON/OQ. 369943' 'PC 17603' '695' 'PC 17760' '2543'\n",
      " '349212' '248731' '244368' '349220' 'PC 17612' '250649' 'SC/A4 23568'\n",
      " '13508' '2624' '14973' '335677' 'PC 17757' '372622' '349201' '315090'\n",
      " '113803' 'SOTON/O.Q. 3101310' '28133' '2681' '28206' 'PC 17591' '2622'\n",
      " '330931' 'A/5 2466' '349254' '335432' '5727' 'STON/O 2. 3101273' '110813'\n",
      " '349224' 'PC 17483' '2651' '364499' 'SC/PARIS 2146' '12460' 'C 17369'\n",
      " '347081' '345765' 'A/4 48871' '16966' '370373' '392096' '3474'\n",
      " 'A/5. 2151' '370376' 'PC 17318' '366713' 'PC 17756' 'CA 2144' '244367'\n",
      " '2666' 'PC 17593' 'C.A. 18723' 'SOTON/O.Q. 3101305' '110469' 'PC 17582'\n",
      " '2650' '2659' '11767' '350404' '371362' 'PC 17562' '312993' '364848'\n",
      " 'SC/A.3 2861' '370129' '113789' '349231' '364849' 'A/5 3594' 'PC 17600'\n",
      " '367229' '383121' '392095' '345773' '370374' 'A/5 3540' '347075'\n",
      " 'F.C.C. 13529' '248744' '113798' 'STON/O 2. 3101275' '19950' '3101297'\n",
      " 'C.A. 5547' '347082' '350403' '2678' '248734' '315094' '250655' '330923'\n",
      " '349245' '349247' '342441' 'C.A. 31030' '347080' '2623' '220367' '329944'\n",
      " 'C.A. 31921' '384461' '113806' '349209' '111427' '11753' '349234' '28665'\n",
      " '693' '13050' '113781' 'A.5. 3236' '230136' '2696' 'SOTON/O.Q. 3101309'\n",
      " '7935' '28220' '111320' 'C.A. 33112' '392091' '345771' '350417' '347063'\n",
      " 'SOTON/O.Q. 392087' '2647' '113509' 'STON/O 2. 3101292' '113773' '4135'\n",
      " 'C.A. 42795' '2661' 'STON/O 2. 3101269' '17421' 'SOTON/O.Q. 392078'\n",
      " 'PC 17531' '371060' 'PC 17755' '113038' 'SCO/W 1585' '2653' '2657'\n",
      " '350048' '2672' '3101265' '2688' '14311' '65303' '349911' '2682' '248727'\n",
      " '364856' '350416' '370369' '330971' 'C.A. 31029' '349237' '349242'\n",
      " '370371' '349205' '3460' 'PC 17594' 'SOTON/OQ 392076' '349909' '2649'\n",
      " 'PC 17474' 'AQ/3. 30631' 'S.O./P.P. 2' '7540' '345763' '373450' '13236'\n",
      " '28425' '315088' 'W./C. 14263' 'STON/O 2. 3101294' '349211' '11769'\n",
      " 'C.A. 33111' '347074' 'S.O.P. 1166' '243880' 'A/5 1478' '113804' '11778'\n",
      " '29106' '347070' 'PC 17611' '13213' 'A/4. 34244' '349226' '113054'\n",
      " '348124' '112053' 'AQ/4 3130' 'W./C. 6609' '3101267' '370365' '345775'\n",
      " 'PC 17590' '235509' '4138' '113043' 'SOTON/OQ 392089' '250643' '112052'\n",
      " '113514' 'A/5 21172' '111428' 'S.C./PARIS 2079' '345781' 'C.A. 34651'\n",
      " '2627' '27267' '220844' '349256' '29104' '2658' 'C 7077' '211536'\n",
      " '250646' '370368' 'C.A. 34050' '4133' '2680' '239059' '113790' '2695'\n",
      " '226593' '113791' '3101295' '113778' '7266' '237789' 'C 4001' '330909'\n",
      " 'STON/O 2. 3101291' '347078' '54636' '368323' '323592' '4134'\n",
      " 'W.E.P. 5734' '367226' 'A/4 31416' '315153' '2689' '347090' '368402'\n",
      " '4136' 'A/5. 10482' 'S.O.C. 14879' 'PC 17595' '19877' '36973' '349910'\n",
      " '349249' '11755' 'PC 17585' '244358' '14313' '112377' 'SOTON/OQ 392090'\n",
      " '382650' '365237' '3411' '28551' '2698' 'SC/AH 29037' '315037' 'CA. 2314'\n",
      " '315082' 'PC 17606' '231919' '17474' '3101277' 'PC 17609' '347076'\n",
      " '330959' '347465' '244361' 'PC 17592' '34218' '113056' '113501' '36865'\n",
      " 'LP 1588' 'STON/O 2. 3101285' '13502' '364516' '29751' '28403' '347471'\n",
      " '33638' 'F.C.C. 13534' '343271' '211535' '240929' 'A/5. 851'\n",
      " 'S.C./A.4. 23567' 'A. 2. 39186' '2683' 'C.A. 15185' '349912' '349225'\n",
      " '230080' '234686' '347073' '237442' '29750' '19928' 'W./C. 6607' '2621'\n",
      " 'A./5. 3338' '2641' '19924' '349214' '349210' 'STON/O 2. 3101289'\n",
      " '237798' '2673' '244270' '358585' '349229' '2626' '113503' 'W./C. 14260'\n",
      " 'A.5. 11206' '368364' '3101281' '13049' '24065' '345498'\n",
      " 'SOTON/O.Q. 3101311' '349250' '336439' '113044' '8475' 'SOTON/OQ 392083'\n",
      " '3410' '233639' '363291' '348121' '345770' '36947' '347060' '230433'\n",
      " '240276' '330910' 'SOTON/O.Q. 3101315' '112059' 'CA 31352' 'P/PP 3381'\n",
      " 'STON/O 2. 3101280' '237565' 'STON/O 2. 3101274' '113796' 'PP 9549'\n",
      " '330968' 'C.A. 29178' '2655' 'STON/O 2. 3101288' 'PC 17598' '230434'\n",
      " '13214' '17463' '31027' '13567' '367230' '112050' '110489' '21228' '2691'\n",
      " '233478' '345778' '3101278' '28666' 'STON/O 2. 3101293' '237735' '2679'\n",
      " 'A.5. 18509' 'SOTON/O.Q. 3101308' '19988' '362316' 'PC 17482' '12233'\n",
      " '350053' '236171' '7538' '2671' '219533' '324669' 'PP 4348' 'PC 17761'\n",
      " '392092' '17764' '239855' '2665' 'PC 17610' '36967' 'A/5 21173' '345774'\n",
      " '248698' '250651' 'S.O./P.P. 251' '350036' 'LINE' '113028' '2690'\n",
      " 'A/4. 39886' 'SC/PARIS 2168' 'PC 17605' '2662' '14312' '11668'\n",
      " 'SOTON/O.Q. 3101262' '382651' '27042' '237670' 'W/C 14208' '347467'\n",
      " '248747' '7546' '21440' '2699' '29108' '349248' '4579' '368702' '349239'\n",
      " '2926' '29103' 'STON/O2. 3101279' 'PC 17604' '376563' 'SC 1748' '248738'\n",
      " '348122' '113572' 'SOTON/O.Q. 3101312' '376564' '17453' '349208' '110465'\n",
      " '110152' '349204' 'C.A. 6212' 'A/5. 3337' '315087' '244278' '350060'\n",
      " '2697' '347072' '315154' '2625' '113051' 'SO/C 14885' '365235' 'PC 17613'\n",
      " '113807' '367231' 'A/4 45380' '229236' '35852' 'PC 17754' '248726'\n",
      " '349230' '349219' '345769' '330935' 'PC 17601' '349202' '386525'\n",
      " 'A/5 3902' '19943' '7534' '244373' '349252' '368783' '350407' '28424'\n",
      " 'Fa 265302' '347469' '12749' '341826' '2675' '350045' '112378' '2908'\n",
      " '315097' '113780' '11752' '7553' '9232' 'A./5. 2152' '35851' 'A/5 3536'\n",
      " '349243' '367655' 'C 17368' '364850' '364859' '349233' 'SC/PARIS 2133'\n",
      " '350033' '2620' '113795' '2652' '349257' '111369' '350052' 'PC 17599'\n",
      " '113760' '244310' '237249' '345780' '19996' 'C.A. 24580' '11770' '244360'\n",
      " '364858' '2654' 'F.C. 12998' '31418' '347061' '348125' '9234' '315096'\n",
      " '347743' '394140' '4137' '350410' '345768' '2003' '349241' '349236'\n",
      " '347466' '364851' '113788' '11774' '349228' '2685' '113786' '248740'\n",
      " '2684' 'SOTON/OQ 392086' '112379' '359309' '237393' '3101298' 'PC 17758'\n",
      " '2692' '29105' '312992' '226875' '2664' 'PC 17596' 'PC 17580' '347085'\n",
      " '349203' 'STON/O2. 3101290' 'C.A. 2673' '236852' '240261' '315091'\n",
      " '349235' 'SC/PARIS 2167' '29107' '367232' '347079' '36864' '26707'\n",
      " '330924' '368703' '65306' '111361' '359306' '28664' '2670' '13905'\n",
      " '343275' '349206' 'PC 17759' '330919' '350043' 'PC 17473' '111240' '2628'\n",
      " '371109' 'SOTON/O.Q. 3101314' '3470' '347468' 'SC/AH Basle 541' '349222'\n",
      " '112058' '248706' 'S.W./PP 752' 'STON/O2. 3101270' '32302' '250653'\n",
      " '17465' '349251' '348123' '350029' '234360' '345572' '28221' '350042'\n",
      " 'C.A. 31026' '350408' '349244' 'PC 17477' '16988' '36963' '330958'\n",
      " 'F.C.C. 13540' '382653' '364506' '364498' 'SC/PARIS 2149' '347065'\n",
      " '363592' 'STON/O 2. 3101268' 'PC 17607' '13695' 'W./C. 14266' '364511'\n",
      " 'PC 17569' 'STON/O2. 3101283' '2700' '2631' '17464' '345779' '349221'\n",
      " '65305' '2660' '7548' '8471' '345777' '223596' '365226' '315092' '350034'\n",
      " '2676' '349215' '11751' 'C.A./SOTON 34068' '349217' '315151' '347091'\n",
      " '330877' '347062' '239865' '113767' '347067' '345767' '367227' '363272'\n",
      " 'A/4. 20589' '237668' '2674' '113059' 'S.P. 3464' '28004' '383162'\n",
      " 'SOTON/O2 3101284' '343095' '13568' '2687' 'PC 17475' 'PC 17476'\n",
      " 'SC/PARIS 2147' '383123' '2648' '237734' '3101296' '347066' 'C 7075'\n",
      " '347086' 'SC 14888' '233734' 'C.A. 34644' '11967' '680' '364512'\n",
      " 'S.O./P.P. 751' '13507' '113050' '248723' '349238' '250652' '112051'\n",
      " '28228' 'SOTON/O2 3101287' '19972' '363611' '21332' '315152' '350050'\n",
      " '27849' '335097' '350025' '244252' 'A/4 48873' '17475' '113787'\n",
      " 'A/5 21175' 'PC 17597' '113784' '347071' 'STON/O 2. 3101286' '343120'\n",
      " '28034' '349227' '345764' '3101266' '315085' '113055' '342684' '349216'\n",
      " 'SC/Paris 2163' 'SC/PARIS 2166' 'SOTON/OQ 3101316' '36866' '374910'\n",
      " '36209' '242963' '347064' '330911' '2629' 'SOTON/O2 3101272' '364500'\n",
      " '2677' '370372' '31028' '19947' '323951' '349255' '349218' '330963'\n",
      " 'A/5 2817' '315098' '239854' '2686' '2667' 'SOTON/O.Q. 3101263' '347464'\n",
      " '19952' '315084' '350054' '3101264' 'A./5. 3235' 'SW/PP 751' '315095'\n",
      " 'STON/O2. 3101271' '65304' 'SOTON/OQ 3101317' '248733' '345501' '2663'\n",
      " '347089' '28213' '13509' '2656' '374887' '231945' '28134' '330980'\n",
      " '349253' '113783' '1222' '315093' 'C.A. 30769' 'A/5 21174' '17466'\n",
      " '370370' 'C.A. 29395' '694' '6563' 'STON/O2. 3101282' '315086' '112277'\n",
      " 'A/5 21171' '110564' '236853' '382649' '7598' '244346' '350047' '315089'\n",
      " 'S.O./P.P. 752' '2694' '248659' 'C.A. 49867' '347470' '334915' '368573'\n",
      " '312991' '342712' '218629' '370377' 'A/S 2816' '237671' '113794' '113792'\n",
      " '347083' 'C.A. 34260' 'SC/PARIS 2159' 'A/5. 13032' '345364' '17765'\n",
      " 'C.A. 29566' '248746' '113801' '111163' '374746' '234604' '11771'\n",
      " '364846' '2693' '7552' '350409' '363294' '233866' '350046' '330972'\n",
      " '17770' '315083' '347068' '347069' '3101276' '330932']\n",
      "_ _ _ _ _ _ _ _ _ _ _ _ _ _ _ _ _ _ _ _ _ _ _ _ _ _ _ _ _ _ _ _ _ _ _ _ _ _ _ _ _ _ _ _ _ _ _ _ _ _ \n",
      "Cabin\n",
      "[nan 'B71' 'B58 B60' 'E67' 'C128' 'D36' 'A20' 'B26' 'B22' 'D26' 'D33'\n",
      " 'B57 B59 B63 B66' 'C2' 'E50' 'E33' 'B3' 'D15' 'G6' 'B51 B53 B55' 'C32'\n",
      " 'C53' 'F2' 'C89' 'C62 C64' 'C123' 'B10' 'E58' 'D37' 'C97' 'E34' 'E121'\n",
      " 'E52' 'B86' 'C106' 'C125' 'C50' 'E49' 'D43' 'E45' 'F38' 'C23 C25 C27' 'F'\n",
      " 'C55 C57' 'E8' 'D19' 'C6' 'C22 C26' 'F4' 'E63' 'B30' 'D30' 'C68' 'E10'\n",
      " 'A29' 'B11' 'D48' 'B101' 'C54' 'A9' 'E25' 'C28' 'C101' 'C116' 'A26' 'A21'\n",
      " 'F G73' 'B42' 'A24' 'C124' 'C87' 'E101' 'C95' 'D34' 'E31' 'C7' 'C49'\n",
      " 'C83' 'A16' 'B5' 'D' 'C70' 'B20' 'C91' 'D28' 'A19' 'D6' 'D9' 'A34' 'C45'\n",
      " 'C78' 'E77' 'C46' 'D49' 'B82 B84' 'C130' 'A10' 'E60' 'F G63' 'D20' 'B94'\n",
      " 'F E46' 'B50' 'E46' 'B41' 'A36' 'D22' 'B45' 'D7' 'C90' 'C86' 'A7' 'B4'\n",
      " 'D46' 'D56' 'B61' 'A23' 'B28' 'C92' 'A14' 'B77' 'C111' 'A11' 'A5' 'C93'\n",
      " 'B24' 'C51' 'D47' 'C148' 'C85' 'B96 B98' 'C126' 'F E57' 'B73' 'C80' 'A6'\n",
      " 'C47' 'C104' 'B79' 'C65' 'C118' 'A18' 'B18' 'D10 D12' 'B19' 'B102' 'D17'\n",
      " 'B36' 'B35' 'D45' 'D50' 'B52 B54 B56' 'B69' 'C31' 'F33' 'B80' 'D21'\n",
      " 'F E69' 'C82' 'C99' 'D35' 'A32' 'B39' 'E24' 'E40' 'B49' 'C39' 'E44' 'B38'\n",
      " 'C30' 'T' 'E68' 'E17' 'D38' 'C52' 'C110' 'E12' 'E38' 'C103' 'C105' 'A31'\n",
      " 'D11' 'B78' 'E36' 'D40' 'E39 E41' 'B37' 'C132']\n",
      "_ _ _ _ _ _ _ _ _ _ _ _ _ _ _ _ _ _ _ _ _ _ _ _ _ _ _ _ _ _ _ _ _ _ _ _ _ _ _ _ _ _ _ _ _ _ _ _ _ _ \n",
      "Embarked\n",
      "['S' 'Q' 'C' nan]\n",
      "_ _ _ _ _ _ _ _ _ _ _ _ _ _ _ _ _ _ _ _ _ _ _ _ _ _ _ _ _ _ _ _ _ _ _ _ _ _ _ _ _ _ _ _ _ _ _ _ _ _ \n"
     ]
    }
   ],
   "source": [
    "for col in titanic.describe(include = 'object'):\n",
    "    print(col)\n",
    "    print(titanic[col].unique())\n",
    "    print('_ '*50)"
   ]
  },
  {
   "cell_type": "code",
   "execution_count": null,
   "metadata": {
    "colab": {
     "base_uri": "https://localhost:8080/"
    },
    "id": "EX3nKpsbPUOc",
    "outputId": "1f6c907d-bbac-473f-bacf-2da73b5fb3f9"
   },
   "outputs": [
    {
     "name": "stdout",
     "output_type": "stream",
     "text": [
      "<class 'pandas.core.frame.DataFrame'>\n",
      "RangeIndex: 1309 entries, 0 to 1308\n",
      "Data columns (total 11 columns):\n",
      " #   Column    Non-Null Count  Dtype  \n",
      "---  ------    --------------  -----  \n",
      " 0   Name      1309 non-null   object \n",
      " 1   Sex       1309 non-null   object \n",
      " 2   Age       1046 non-null   float64\n",
      " 3   Pclass    1309 non-null   int64  \n",
      " 4   SibSp     1309 non-null   int64  \n",
      " 5   Parch     1309 non-null   int64  \n",
      " 6   Ticket    1309 non-null   object \n",
      " 7   Fare      1308 non-null   float64\n",
      " 8   Cabin     295 non-null    object \n",
      " 9   Embarked  1307 non-null   object \n",
      " 10  Survived  1309 non-null   int64  \n",
      "dtypes: float64(2), int64(4), object(5)\n",
      "memory usage: 112.6+ KB\n"
     ]
    }
   ],
   "source": [
    "titanic.info()"
   ]
  },
  {
   "cell_type": "markdown",
   "metadata": {
    "id": "yz2ANJLsYpvW"
   },
   "source": [
    "What type is each variable (column)?"
   ]
  },
  {
   "cell_type": "code",
   "execution_count": null,
   "metadata": {
    "colab": {
     "base_uri": "https://localhost:8080/"
    },
    "id": "b_IKKDo1YkBt",
    "outputId": "50147d1a-9ad2-451b-998b-ce1129077fd6"
   },
   "outputs": [
    {
     "data": {
      "text/plain": [
       "Name         object\n",
       "Sex          object\n",
       "Age         float64\n",
       "Pclass        int64\n",
       "SibSp         int64\n",
       "Parch         int64\n",
       "Ticket       object\n",
       "Fare        float64\n",
       "Cabin        object\n",
       "Embarked     object\n",
       "Survived      int64\n",
       "dtype: object"
      ]
     },
     "execution_count": 8,
     "metadata": {},
     "output_type": "execute_result"
    }
   ],
   "source": [
    "titanic.dtypes"
   ]
  },
  {
   "cell_type": "markdown",
   "metadata": {
    "id": "c9wPtC2YZJR3"
   },
   "source": [
    "Are there null values?"
   ]
  },
  {
   "cell_type": "code",
   "execution_count": null,
   "metadata": {
    "colab": {
     "base_uri": "https://localhost:8080/"
    },
    "id": "v5TIRJCyZLD7",
    "outputId": "f752a5b4-f08a-4ebc-ef5a-dfc3acc258f4"
   },
   "outputs": [
    {
     "data": {
      "text/plain": [
       "True"
      ]
     },
     "execution_count": 10,
     "metadata": {},
     "output_type": "execute_result"
    }
   ],
   "source": [
    "titanic.isnull().values.any()"
   ]
  },
  {
   "cell_type": "code",
   "execution_count": null,
   "metadata": {
    "colab": {
     "base_uri": "https://localhost:8080/",
     "height": 424
    },
    "id": "-LraNUoRaft-",
    "outputId": "a1d8c5af-98b5-4db7-e460-32d951844166"
   },
   "outputs": [
    {
     "data": {
      "text/html": [
       "\n",
       "  <div id=\"df-48976b0e-8f50-4607-b81a-bb9565a2d756\">\n",
       "    <div class=\"colab-df-container\">\n",
       "      <div>\n",
       "<style scoped>\n",
       "    .dataframe tbody tr th:only-of-type {\n",
       "        vertical-align: middle;\n",
       "    }\n",
       "\n",
       "    .dataframe tbody tr th {\n",
       "        vertical-align: top;\n",
       "    }\n",
       "\n",
       "    .dataframe thead th {\n",
       "        text-align: right;\n",
       "    }\n",
       "</style>\n",
       "<table border=\"1\" class=\"dataframe\">\n",
       "  <thead>\n",
       "    <tr style=\"text-align: right;\">\n",
       "      <th></th>\n",
       "      <th>Name</th>\n",
       "      <th>Sex</th>\n",
       "      <th>Age</th>\n",
       "      <th>Pclass</th>\n",
       "      <th>SibSp</th>\n",
       "      <th>Parch</th>\n",
       "      <th>Ticket</th>\n",
       "      <th>Fare</th>\n",
       "      <th>Cabin</th>\n",
       "      <th>Embarked</th>\n",
       "      <th>Survived</th>\n",
       "    </tr>\n",
       "  </thead>\n",
       "  <tbody>\n",
       "    <tr>\n",
       "      <th>0</th>\n",
       "      <td>False</td>\n",
       "      <td>False</td>\n",
       "      <td>False</td>\n",
       "      <td>False</td>\n",
       "      <td>False</td>\n",
       "      <td>False</td>\n",
       "      <td>False</td>\n",
       "      <td>False</td>\n",
       "      <td>True</td>\n",
       "      <td>False</td>\n",
       "      <td>False</td>\n",
       "    </tr>\n",
       "    <tr>\n",
       "      <th>1</th>\n",
       "      <td>False</td>\n",
       "      <td>False</td>\n",
       "      <td>False</td>\n",
       "      <td>False</td>\n",
       "      <td>False</td>\n",
       "      <td>False</td>\n",
       "      <td>False</td>\n",
       "      <td>False</td>\n",
       "      <td>True</td>\n",
       "      <td>False</td>\n",
       "      <td>False</td>\n",
       "    </tr>\n",
       "    <tr>\n",
       "      <th>2</th>\n",
       "      <td>False</td>\n",
       "      <td>False</td>\n",
       "      <td>False</td>\n",
       "      <td>False</td>\n",
       "      <td>False</td>\n",
       "      <td>False</td>\n",
       "      <td>False</td>\n",
       "      <td>False</td>\n",
       "      <td>True</td>\n",
       "      <td>False</td>\n",
       "      <td>False</td>\n",
       "    </tr>\n",
       "    <tr>\n",
       "      <th>3</th>\n",
       "      <td>False</td>\n",
       "      <td>False</td>\n",
       "      <td>False</td>\n",
       "      <td>False</td>\n",
       "      <td>False</td>\n",
       "      <td>False</td>\n",
       "      <td>False</td>\n",
       "      <td>False</td>\n",
       "      <td>False</td>\n",
       "      <td>False</td>\n",
       "      <td>False</td>\n",
       "    </tr>\n",
       "    <tr>\n",
       "      <th>4</th>\n",
       "      <td>False</td>\n",
       "      <td>False</td>\n",
       "      <td>False</td>\n",
       "      <td>False</td>\n",
       "      <td>False</td>\n",
       "      <td>False</td>\n",
       "      <td>False</td>\n",
       "      <td>False</td>\n",
       "      <td>True</td>\n",
       "      <td>False</td>\n",
       "      <td>False</td>\n",
       "    </tr>\n",
       "    <tr>\n",
       "      <th>...</th>\n",
       "      <td>...</td>\n",
       "      <td>...</td>\n",
       "      <td>...</td>\n",
       "      <td>...</td>\n",
       "      <td>...</td>\n",
       "      <td>...</td>\n",
       "      <td>...</td>\n",
       "      <td>...</td>\n",
       "      <td>...</td>\n",
       "      <td>...</td>\n",
       "      <td>...</td>\n",
       "    </tr>\n",
       "    <tr>\n",
       "      <th>1304</th>\n",
       "      <td>False</td>\n",
       "      <td>False</td>\n",
       "      <td>False</td>\n",
       "      <td>False</td>\n",
       "      <td>False</td>\n",
       "      <td>False</td>\n",
       "      <td>False</td>\n",
       "      <td>False</td>\n",
       "      <td>True</td>\n",
       "      <td>False</td>\n",
       "      <td>False</td>\n",
       "    </tr>\n",
       "    <tr>\n",
       "      <th>1305</th>\n",
       "      <td>False</td>\n",
       "      <td>False</td>\n",
       "      <td>False</td>\n",
       "      <td>False</td>\n",
       "      <td>False</td>\n",
       "      <td>False</td>\n",
       "      <td>False</td>\n",
       "      <td>False</td>\n",
       "      <td>True</td>\n",
       "      <td>False</td>\n",
       "      <td>False</td>\n",
       "    </tr>\n",
       "    <tr>\n",
       "      <th>1306</th>\n",
       "      <td>False</td>\n",
       "      <td>False</td>\n",
       "      <td>False</td>\n",
       "      <td>False</td>\n",
       "      <td>False</td>\n",
       "      <td>False</td>\n",
       "      <td>False</td>\n",
       "      <td>False</td>\n",
       "      <td>True</td>\n",
       "      <td>False</td>\n",
       "      <td>False</td>\n",
       "    </tr>\n",
       "    <tr>\n",
       "      <th>1307</th>\n",
       "      <td>False</td>\n",
       "      <td>False</td>\n",
       "      <td>False</td>\n",
       "      <td>False</td>\n",
       "      <td>False</td>\n",
       "      <td>False</td>\n",
       "      <td>False</td>\n",
       "      <td>False</td>\n",
       "      <td>True</td>\n",
       "      <td>False</td>\n",
       "      <td>False</td>\n",
       "    </tr>\n",
       "    <tr>\n",
       "      <th>1308</th>\n",
       "      <td>False</td>\n",
       "      <td>False</td>\n",
       "      <td>True</td>\n",
       "      <td>False</td>\n",
       "      <td>False</td>\n",
       "      <td>False</td>\n",
       "      <td>False</td>\n",
       "      <td>False</td>\n",
       "      <td>True</td>\n",
       "      <td>False</td>\n",
       "      <td>False</td>\n",
       "    </tr>\n",
       "  </tbody>\n",
       "</table>\n",
       "<p>1309 rows × 11 columns</p>\n",
       "</div>\n",
       "      <button class=\"colab-df-convert\" onclick=\"convertToInteractive('df-48976b0e-8f50-4607-b81a-bb9565a2d756')\"\n",
       "              title=\"Convert this dataframe to an interactive table.\"\n",
       "              style=\"display:none;\">\n",
       "        \n",
       "  <svg xmlns=\"http://www.w3.org/2000/svg\" height=\"24px\"viewBox=\"0 0 24 24\"\n",
       "       width=\"24px\">\n",
       "    <path d=\"M0 0h24v24H0V0z\" fill=\"none\"/>\n",
       "    <path d=\"M18.56 5.44l.94 2.06.94-2.06 2.06-.94-2.06-.94-.94-2.06-.94 2.06-2.06.94zm-11 1L8.5 8.5l.94-2.06 2.06-.94-2.06-.94L8.5 2.5l-.94 2.06-2.06.94zm10 10l.94 2.06.94-2.06 2.06-.94-2.06-.94-.94-2.06-.94 2.06-2.06.94z\"/><path d=\"M17.41 7.96l-1.37-1.37c-.4-.4-.92-.59-1.43-.59-.52 0-1.04.2-1.43.59L10.3 9.45l-7.72 7.72c-.78.78-.78 2.05 0 2.83L4 21.41c.39.39.9.59 1.41.59.51 0 1.02-.2 1.41-.59l7.78-7.78 2.81-2.81c.8-.78.8-2.07 0-2.86zM5.41 20L4 18.59l7.72-7.72 1.47 1.35L5.41 20z\"/>\n",
       "  </svg>\n",
       "      </button>\n",
       "      \n",
       "  <style>\n",
       "    .colab-df-container {\n",
       "      display:flex;\n",
       "      flex-wrap:wrap;\n",
       "      gap: 12px;\n",
       "    }\n",
       "\n",
       "    .colab-df-convert {\n",
       "      background-color: #E8F0FE;\n",
       "      border: none;\n",
       "      border-radius: 50%;\n",
       "      cursor: pointer;\n",
       "      display: none;\n",
       "      fill: #1967D2;\n",
       "      height: 32px;\n",
       "      padding: 0 0 0 0;\n",
       "      width: 32px;\n",
       "    }\n",
       "\n",
       "    .colab-df-convert:hover {\n",
       "      background-color: #E2EBFA;\n",
       "      box-shadow: 0px 1px 2px rgba(60, 64, 67, 0.3), 0px 1px 3px 1px rgba(60, 64, 67, 0.15);\n",
       "      fill: #174EA6;\n",
       "    }\n",
       "\n",
       "    [theme=dark] .colab-df-convert {\n",
       "      background-color: #3B4455;\n",
       "      fill: #D2E3FC;\n",
       "    }\n",
       "\n",
       "    [theme=dark] .colab-df-convert:hover {\n",
       "      background-color: #434B5C;\n",
       "      box-shadow: 0px 1px 3px 1px rgba(0, 0, 0, 0.15);\n",
       "      filter: drop-shadow(0px 1px 2px rgba(0, 0, 0, 0.3));\n",
       "      fill: #FFFFFF;\n",
       "    }\n",
       "  </style>\n",
       "\n",
       "      <script>\n",
       "        const buttonEl =\n",
       "          document.querySelector('#df-48976b0e-8f50-4607-b81a-bb9565a2d756 button.colab-df-convert');\n",
       "        buttonEl.style.display =\n",
       "          google.colab.kernel.accessAllowed ? 'block' : 'none';\n",
       "\n",
       "        async function convertToInteractive(key) {\n",
       "          const element = document.querySelector('#df-48976b0e-8f50-4607-b81a-bb9565a2d756');\n",
       "          const dataTable =\n",
       "            await google.colab.kernel.invokeFunction('convertToInteractive',\n",
       "                                                     [key], {});\n",
       "          if (!dataTable) return;\n",
       "\n",
       "          const docLinkHtml = 'Like what you see? Visit the ' +\n",
       "            '<a target=\"_blank\" href=https://colab.research.google.com/notebooks/data_table.ipynb>data table notebook</a>'\n",
       "            + ' to learn more about interactive tables.';\n",
       "          element.innerHTML = '';\n",
       "          dataTable['output_type'] = 'display_data';\n",
       "          await google.colab.output.renderOutput(dataTable, element);\n",
       "          const docLink = document.createElement('div');\n",
       "          docLink.innerHTML = docLinkHtml;\n",
       "          element.appendChild(docLink);\n",
       "        }\n",
       "      </script>\n",
       "    </div>\n",
       "  </div>\n",
       "  "
      ],
      "text/plain": [
       "       Name    Sex    Age  Pclass  SibSp  Parch  Ticket   Fare  Cabin  \\\n",
       "0     False  False  False   False  False  False   False  False   True   \n",
       "1     False  False  False   False  False  False   False  False   True   \n",
       "2     False  False  False   False  False  False   False  False   True   \n",
       "3     False  False  False   False  False  False   False  False  False   \n",
       "4     False  False  False   False  False  False   False  False   True   \n",
       "...     ...    ...    ...     ...    ...    ...     ...    ...    ...   \n",
       "1304  False  False  False   False  False  False   False  False   True   \n",
       "1305  False  False  False   False  False  False   False  False   True   \n",
       "1306  False  False  False   False  False  False   False  False   True   \n",
       "1307  False  False  False   False  False  False   False  False   True   \n",
       "1308  False  False   True   False  False  False   False  False   True   \n",
       "\n",
       "      Embarked  Survived  \n",
       "0        False     False  \n",
       "1        False     False  \n",
       "2        False     False  \n",
       "3        False     False  \n",
       "4        False     False  \n",
       "...        ...       ...  \n",
       "1304     False     False  \n",
       "1305     False     False  \n",
       "1306     False     False  \n",
       "1307     False     False  \n",
       "1308     False     False  \n",
       "\n",
       "[1309 rows x 11 columns]"
      ]
     },
     "execution_count": 11,
     "metadata": {},
     "output_type": "execute_result"
    }
   ],
   "source": [
    "titanic.isna()"
   ]
  },
  {
   "cell_type": "code",
   "execution_count": 19,
   "metadata": {
    "colab": {
     "base_uri": "https://localhost:8080/"
    },
    "id": "uyJKoV63apom",
    "outputId": "51ce252c-1cf7-4966-ac7e-588779af8ae4"
   },
   "outputs": [
    {
     "data": {
      "text/plain": [
       "Name           0\n",
       "Sex            0\n",
       "Age          263\n",
       "Pclass         0\n",
       "SibSp          0\n",
       "Parch          0\n",
       "Ticket         0\n",
       "Fare           1\n",
       "Cabin       1014\n",
       "Embarked       2\n",
       "Survived       0\n",
       "dtype: int64"
      ]
     },
     "execution_count": 19,
     "metadata": {},
     "output_type": "execute_result"
    }
   ],
   "source": [
    "titanic.isnull().sum() #returns sum of null values of the entire dataframe"
   ]
  },
  {
   "cell_type": "code",
   "execution_count": 21,
   "metadata": {},
   "outputs": [
    {
     "data": {
      "text/plain": [
       "1280"
      ]
     },
     "execution_count": 21,
     "metadata": {},
     "output_type": "execute_result"
    }
   ],
   "source": [
    "titanic.isnull().values.sum() #returns sum of all null values of the entire dataframe"
   ]
  },
  {
   "cell_type": "code",
   "execution_count": 24,
   "metadata": {},
   "outputs": [
    {
     "name": "stdout",
     "output_type": "stream",
     "text": [
      "                  Name   Sex   Age  Pclass  SibSp  Parch Ticket  Fare Cabin  \\\n",
      "73  Storey, Mr. Thomas  male  60.5       3      0      0   3701   NaN   NaN   \n",
      "\n",
      "   Embarked  Survived  \n",
      "73        S         0  \n"
     ]
    }
   ],
   "source": [
    "nan_in_fare = titanic[titanic['Fare'].isnull()] #to see the one person who didn't declare the fare\n",
    "print(nan_in_fare)"
   ]
  },
  {
   "cell_type": "code",
   "execution_count": null,
   "metadata": {
    "colab": {
     "base_uri": "https://localhost:8080/"
    },
    "id": "aa8Wa7eZaz0L",
    "outputId": "4ff7e03b-75e8-4264-a1db-0e9fdb1bc3a1"
   },
   "outputs": [
    {
     "data": {
      "text/plain": [
       "1014"
      ]
     },
     "execution_count": 13,
     "metadata": {},
     "output_type": "execute_result"
    }
   ],
   "source": [
    "titanic['Cabin'].isnull().sum()"
   ]
  },
  {
   "cell_type": "code",
   "execution_count": null,
   "metadata": {
    "colab": {
     "base_uri": "https://localhost:8080/"
    },
    "id": "Vr_Jsc0vbTJI",
    "outputId": "289918b6-ddc2-4881-95ab-e97b81632d14"
   },
   "outputs": [
    {
     "data": {
      "text/plain": [
       "0"
      ]
     },
     "execution_count": 14,
     "metadata": {},
     "output_type": "execute_result"
    }
   ],
   "source": [
    "titanic['Sex'].isnull().sum()"
   ]
  },
  {
   "cell_type": "code",
   "execution_count": null,
   "metadata": {
    "colab": {
     "base_uri": "https://localhost:8080/"
    },
    "id": "hUK632l2bXg2",
    "outputId": "f9020abf-451b-44e6-dc80-7b838a34c6ec"
   },
   "outputs": [
    {
     "data": {
      "text/plain": [
       "0"
      ]
     },
     "execution_count": 15,
     "metadata": {},
     "output_type": "execute_result"
    }
   ],
   "source": [
    "titanic['Name'].isnull().sum()"
   ]
  },
  {
   "cell_type": "code",
   "execution_count": null,
   "metadata": {
    "colab": {
     "base_uri": "https://localhost:8080/"
    },
    "id": "cXzskDnwbba2",
    "outputId": "3778da6f-dfb3-49a4-f7f1-eeac2d6ae96e"
   },
   "outputs": [
    {
     "data": {
      "text/plain": [
       "263"
      ]
     },
     "execution_count": 17,
     "metadata": {},
     "output_type": "execute_result"
    }
   ],
   "source": [
    "titanic['Age'].isnull().sum()"
   ]
  },
  {
   "cell_type": "code",
   "execution_count": 25,
   "metadata": {},
   "outputs": [],
   "source": [
    "titanic.drop(['Age', 'Cabin', 'Embarked'], axis = 1, inplace = True) #deleting the column name from the dataframe with null values.\n"
   ]
  },
  {
   "cell_type": "code",
   "execution_count": null,
   "metadata": {
    "colab": {
     "base_uri": "https://localhost:8080/",
     "height": 424
    },
    "id": "MxQQASJFb8ku",
    "outputId": "47498d90-6cff-409f-cf9f-50f866bfb801"
   },
   "outputs": [
    {
     "data": {
      "text/html": [
       "\n",
       "  <div id=\"df-6c32f731-b849-4620-b736-97fa940b2d46\">\n",
       "    <div class=\"colab-df-container\">\n",
       "      <div>\n",
       "<style scoped>\n",
       "    .dataframe tbody tr th:only-of-type {\n",
       "        vertical-align: middle;\n",
       "    }\n",
       "\n",
       "    .dataframe tbody tr th {\n",
       "        vertical-align: top;\n",
       "    }\n",
       "\n",
       "    .dataframe thead th {\n",
       "        text-align: right;\n",
       "    }\n",
       "</style>\n",
       "<table border=\"1\" class=\"dataframe\">\n",
       "  <thead>\n",
       "    <tr style=\"text-align: right;\">\n",
       "      <th></th>\n",
       "      <th>Name</th>\n",
       "      <th>Sex</th>\n",
       "      <th>Age</th>\n",
       "      <th>Pclass</th>\n",
       "      <th>SibSp</th>\n",
       "      <th>Parch</th>\n",
       "      <th>Ticket</th>\n",
       "      <th>Fare</th>\n",
       "      <th>Cabin</th>\n",
       "      <th>Embarked</th>\n",
       "      <th>Survived</th>\n",
       "    </tr>\n",
       "  </thead>\n",
       "  <tbody>\n",
       "    <tr>\n",
       "      <th>3</th>\n",
       "      <td>Davidson, Mrs. Thornton</td>\n",
       "      <td>female</td>\n",
       "      <td>27.0</td>\n",
       "      <td>1</td>\n",
       "      <td>1</td>\n",
       "      <td>2</td>\n",
       "      <td>F.C. 12750</td>\n",
       "      <td>52.0000</td>\n",
       "      <td>B71</td>\n",
       "      <td>S</td>\n",
       "      <td>1</td>\n",
       "    </tr>\n",
       "    <tr>\n",
       "      <th>5</th>\n",
       "      <td>Douglas, Mrs. Frederick Charles</td>\n",
       "      <td>female</td>\n",
       "      <td>27.0</td>\n",
       "      <td>1</td>\n",
       "      <td>1</td>\n",
       "      <td>1</td>\n",
       "      <td>PC 17558</td>\n",
       "      <td>247.5208</td>\n",
       "      <td>B58 B60</td>\n",
       "      <td>C</td>\n",
       "      <td>1</td>\n",
       "    </tr>\n",
       "    <tr>\n",
       "      <th>11</th>\n",
       "      <td>Taussig, Mrs. Emil</td>\n",
       "      <td>female</td>\n",
       "      <td>39.0</td>\n",
       "      <td>1</td>\n",
       "      <td>1</td>\n",
       "      <td>1</td>\n",
       "      <td>110413</td>\n",
       "      <td>79.6500</td>\n",
       "      <td>E67</td>\n",
       "      <td>S</td>\n",
       "      <td>1</td>\n",
       "    </tr>\n",
       "    <tr>\n",
       "      <th>30</th>\n",
       "      <td>Newell, Miss. Marjorie</td>\n",
       "      <td>female</td>\n",
       "      <td>23.0</td>\n",
       "      <td>1</td>\n",
       "      <td>1</td>\n",
       "      <td>0</td>\n",
       "      <td>35273</td>\n",
       "      <td>113.2750</td>\n",
       "      <td>D36</td>\n",
       "      <td>C</td>\n",
       "      <td>1</td>\n",
       "    </tr>\n",
       "    <tr>\n",
       "      <th>31</th>\n",
       "      <td>Duff Gordon, Sir. Cosmo Edmund</td>\n",
       "      <td>male</td>\n",
       "      <td>49.0</td>\n",
       "      <td>1</td>\n",
       "      <td>1</td>\n",
       "      <td>0</td>\n",
       "      <td>PC 17485</td>\n",
       "      <td>56.9292</td>\n",
       "      <td>A20</td>\n",
       "      <td>C</td>\n",
       "      <td>1</td>\n",
       "    </tr>\n",
       "    <tr>\n",
       "      <th>...</th>\n",
       "      <td>...</td>\n",
       "      <td>...</td>\n",
       "      <td>...</td>\n",
       "      <td>...</td>\n",
       "      <td>...</td>\n",
       "      <td>...</td>\n",
       "      <td>...</td>\n",
       "      <td>...</td>\n",
       "      <td>...</td>\n",
       "      <td>...</td>\n",
       "      <td>...</td>\n",
       "    </tr>\n",
       "    <tr>\n",
       "      <th>1271</th>\n",
       "      <td>Frauenthal, Mr. Isaac Gerald</td>\n",
       "      <td>male</td>\n",
       "      <td>43.0</td>\n",
       "      <td>1</td>\n",
       "      <td>1</td>\n",
       "      <td>0</td>\n",
       "      <td>17765</td>\n",
       "      <td>27.7208</td>\n",
       "      <td>D40</td>\n",
       "      <td>C</td>\n",
       "      <td>1</td>\n",
       "    </tr>\n",
       "    <tr>\n",
       "      <th>1280</th>\n",
       "      <td>Wilson, Miss. Helen Alice</td>\n",
       "      <td>female</td>\n",
       "      <td>31.0</td>\n",
       "      <td>1</td>\n",
       "      <td>0</td>\n",
       "      <td>0</td>\n",
       "      <td>16966</td>\n",
       "      <td>134.5000</td>\n",
       "      <td>E39 E41</td>\n",
       "      <td>C</td>\n",
       "      <td>1</td>\n",
       "    </tr>\n",
       "    <tr>\n",
       "      <th>1281</th>\n",
       "      <td>Kent, Mr. Edward Austin</td>\n",
       "      <td>male</td>\n",
       "      <td>58.0</td>\n",
       "      <td>1</td>\n",
       "      <td>0</td>\n",
       "      <td>0</td>\n",
       "      <td>11771</td>\n",
       "      <td>29.7000</td>\n",
       "      <td>B37</td>\n",
       "      <td>C</td>\n",
       "      <td>0</td>\n",
       "    </tr>\n",
       "    <tr>\n",
       "      <th>1283</th>\n",
       "      <td>Keeping, Mr. Edwin</td>\n",
       "      <td>male</td>\n",
       "      <td>32.5</td>\n",
       "      <td>1</td>\n",
       "      <td>0</td>\n",
       "      <td>0</td>\n",
       "      <td>113503</td>\n",
       "      <td>211.5000</td>\n",
       "      <td>C132</td>\n",
       "      <td>C</td>\n",
       "      <td>0</td>\n",
       "    </tr>\n",
       "    <tr>\n",
       "      <th>1295</th>\n",
       "      <td>Marvin, Mr. Daniel Warner</td>\n",
       "      <td>male</td>\n",
       "      <td>19.0</td>\n",
       "      <td>1</td>\n",
       "      <td>1</td>\n",
       "      <td>0</td>\n",
       "      <td>113773</td>\n",
       "      <td>53.1000</td>\n",
       "      <td>D30</td>\n",
       "      <td>S</td>\n",
       "      <td>0</td>\n",
       "    </tr>\n",
       "  </tbody>\n",
       "</table>\n",
       "<p>270 rows × 11 columns</p>\n",
       "</div>\n",
       "      <button class=\"colab-df-convert\" onclick=\"convertToInteractive('df-6c32f731-b849-4620-b736-97fa940b2d46')\"\n",
       "              title=\"Convert this dataframe to an interactive table.\"\n",
       "              style=\"display:none;\">\n",
       "        \n",
       "  <svg xmlns=\"http://www.w3.org/2000/svg\" height=\"24px\"viewBox=\"0 0 24 24\"\n",
       "       width=\"24px\">\n",
       "    <path d=\"M0 0h24v24H0V0z\" fill=\"none\"/>\n",
       "    <path d=\"M18.56 5.44l.94 2.06.94-2.06 2.06-.94-2.06-.94-.94-2.06-.94 2.06-2.06.94zm-11 1L8.5 8.5l.94-2.06 2.06-.94-2.06-.94L8.5 2.5l-.94 2.06-2.06.94zm10 10l.94 2.06.94-2.06 2.06-.94-2.06-.94-.94-2.06-.94 2.06-2.06.94z\"/><path d=\"M17.41 7.96l-1.37-1.37c-.4-.4-.92-.59-1.43-.59-.52 0-1.04.2-1.43.59L10.3 9.45l-7.72 7.72c-.78.78-.78 2.05 0 2.83L4 21.41c.39.39.9.59 1.41.59.51 0 1.02-.2 1.41-.59l7.78-7.78 2.81-2.81c.8-.78.8-2.07 0-2.86zM5.41 20L4 18.59l7.72-7.72 1.47 1.35L5.41 20z\"/>\n",
       "  </svg>\n",
       "      </button>\n",
       "      \n",
       "  <style>\n",
       "    .colab-df-container {\n",
       "      display:flex;\n",
       "      flex-wrap:wrap;\n",
       "      gap: 12px;\n",
       "    }\n",
       "\n",
       "    .colab-df-convert {\n",
       "      background-color: #E8F0FE;\n",
       "      border: none;\n",
       "      border-radius: 50%;\n",
       "      cursor: pointer;\n",
       "      display: none;\n",
       "      fill: #1967D2;\n",
       "      height: 32px;\n",
       "      padding: 0 0 0 0;\n",
       "      width: 32px;\n",
       "    }\n",
       "\n",
       "    .colab-df-convert:hover {\n",
       "      background-color: #E2EBFA;\n",
       "      box-shadow: 0px 1px 2px rgba(60, 64, 67, 0.3), 0px 1px 3px 1px rgba(60, 64, 67, 0.15);\n",
       "      fill: #174EA6;\n",
       "    }\n",
       "\n",
       "    [theme=dark] .colab-df-convert {\n",
       "      background-color: #3B4455;\n",
       "      fill: #D2E3FC;\n",
       "    }\n",
       "\n",
       "    [theme=dark] .colab-df-convert:hover {\n",
       "      background-color: #434B5C;\n",
       "      box-shadow: 0px 1px 3px 1px rgba(0, 0, 0, 0.15);\n",
       "      filter: drop-shadow(0px 1px 2px rgba(0, 0, 0, 0.3));\n",
       "      fill: #FFFFFF;\n",
       "    }\n",
       "  </style>\n",
       "\n",
       "      <script>\n",
       "        const buttonEl =\n",
       "          document.querySelector('#df-6c32f731-b849-4620-b736-97fa940b2d46 button.colab-df-convert');\n",
       "        buttonEl.style.display =\n",
       "          google.colab.kernel.accessAllowed ? 'block' : 'none';\n",
       "\n",
       "        async function convertToInteractive(key) {\n",
       "          const element = document.querySelector('#df-6c32f731-b849-4620-b736-97fa940b2d46');\n",
       "          const dataTable =\n",
       "            await google.colab.kernel.invokeFunction('convertToInteractive',\n",
       "                                                     [key], {});\n",
       "          if (!dataTable) return;\n",
       "\n",
       "          const docLinkHtml = 'Like what you see? Visit the ' +\n",
       "            '<a target=\"_blank\" href=https://colab.research.google.com/notebooks/data_table.ipynb>data table notebook</a>'\n",
       "            + ' to learn more about interactive tables.';\n",
       "          element.innerHTML = '';\n",
       "          dataTable['output_type'] = 'display_data';\n",
       "          await google.colab.output.renderOutput(dataTable, element);\n",
       "          const docLink = document.createElement('div');\n",
       "          docLink.innerHTML = docLinkHtml;\n",
       "          element.appendChild(docLink);\n",
       "        }\n",
       "      </script>\n",
       "    </div>\n",
       "  </div>\n",
       "  "
      ],
      "text/plain": [
       "                                 Name     Sex   Age  Pclass  SibSp  Parch  \\\n",
       "3             Davidson, Mrs. Thornton  female  27.0       1      1      2   \n",
       "5     Douglas, Mrs. Frederick Charles  female  27.0       1      1      1   \n",
       "11                 Taussig, Mrs. Emil  female  39.0       1      1      1   \n",
       "30             Newell, Miss. Marjorie  female  23.0       1      1      0   \n",
       "31     Duff Gordon, Sir. Cosmo Edmund    male  49.0       1      1      0   \n",
       "...                               ...     ...   ...     ...    ...    ...   \n",
       "1271     Frauenthal, Mr. Isaac Gerald    male  43.0       1      1      0   \n",
       "1280        Wilson, Miss. Helen Alice  female  31.0       1      0      0   \n",
       "1281          Kent, Mr. Edward Austin    male  58.0       1      0      0   \n",
       "1283               Keeping, Mr. Edwin    male  32.5       1      0      0   \n",
       "1295        Marvin, Mr. Daniel Warner    male  19.0       1      1      0   \n",
       "\n",
       "          Ticket      Fare    Cabin Embarked  Survived  \n",
       "3     F.C. 12750   52.0000      B71        S         1  \n",
       "5       PC 17558  247.5208  B58 B60        C         1  \n",
       "11        110413   79.6500      E67        S         1  \n",
       "30         35273  113.2750      D36        C         1  \n",
       "31      PC 17485   56.9292      A20        C         1  \n",
       "...          ...       ...      ...      ...       ...  \n",
       "1271       17765   27.7208      D40        C         1  \n",
       "1280       16966  134.5000  E39 E41        C         1  \n",
       "1281       11771   29.7000      B37        C         0  \n",
       "1283      113503  211.5000     C132        C         0  \n",
       "1295      113773   53.1000      D30        S         0  \n",
       "\n",
       "[270 rows x 11 columns]"
      ]
     },
     "execution_count": 18,
     "metadata": {},
     "output_type": "execute_result"
    }
   ],
   "source": [
    "titanic.dropna() #deleting rows with null values inplace=True makes changes to the df as well."
   ]
  },
  {
   "cell_type": "code",
   "execution_count": 26,
   "metadata": {},
   "outputs": [
    {
     "data": {
      "text/plain": [
       "Name        0\n",
       "Sex         0\n",
       "Pclass      0\n",
       "SibSp       0\n",
       "Parch       0\n",
       "Ticket      0\n",
       "Fare        1\n",
       "Survived    0\n",
       "dtype: int64"
      ]
     },
     "execution_count": 26,
     "metadata": {},
     "output_type": "execute_result"
    }
   ],
   "source": [
    "titanic.isnull().sum()  #checking if all the null values have been removed"
   ]
  },
  {
   "cell_type": "code",
   "execution_count": 27,
   "metadata": {},
   "outputs": [
    {
     "data": {
      "text/html": [
       "<div>\n",
       "<style scoped>\n",
       "    .dataframe tbody tr th:only-of-type {\n",
       "        vertical-align: middle;\n",
       "    }\n",
       "\n",
       "    .dataframe tbody tr th {\n",
       "        vertical-align: top;\n",
       "    }\n",
       "\n",
       "    .dataframe thead th {\n",
       "        text-align: right;\n",
       "    }\n",
       "</style>\n",
       "<table border=\"1\" class=\"dataframe\">\n",
       "  <thead>\n",
       "    <tr style=\"text-align: right;\">\n",
       "      <th></th>\n",
       "      <th>Pclass</th>\n",
       "      <th>SibSp</th>\n",
       "      <th>Parch</th>\n",
       "      <th>Fare</th>\n",
       "      <th>Survived</th>\n",
       "    </tr>\n",
       "  </thead>\n",
       "  <tbody>\n",
       "    <tr>\n",
       "      <th>count</th>\n",
       "      <td>1309.000000</td>\n",
       "      <td>1309.000000</td>\n",
       "      <td>1309.000000</td>\n",
       "      <td>1308.000000</td>\n",
       "      <td>1309.000000</td>\n",
       "    </tr>\n",
       "    <tr>\n",
       "      <th>mean</th>\n",
       "      <td>2.294882</td>\n",
       "      <td>0.498854</td>\n",
       "      <td>0.385027</td>\n",
       "      <td>33.295479</td>\n",
       "      <td>0.381971</td>\n",
       "    </tr>\n",
       "    <tr>\n",
       "      <th>std</th>\n",
       "      <td>0.837836</td>\n",
       "      <td>1.041658</td>\n",
       "      <td>0.865560</td>\n",
       "      <td>51.758668</td>\n",
       "      <td>0.486055</td>\n",
       "    </tr>\n",
       "    <tr>\n",
       "      <th>min</th>\n",
       "      <td>1.000000</td>\n",
       "      <td>0.000000</td>\n",
       "      <td>0.000000</td>\n",
       "      <td>0.000000</td>\n",
       "      <td>0.000000</td>\n",
       "    </tr>\n",
       "    <tr>\n",
       "      <th>25%</th>\n",
       "      <td>2.000000</td>\n",
       "      <td>0.000000</td>\n",
       "      <td>0.000000</td>\n",
       "      <td>7.895800</td>\n",
       "      <td>0.000000</td>\n",
       "    </tr>\n",
       "    <tr>\n",
       "      <th>50%</th>\n",
       "      <td>3.000000</td>\n",
       "      <td>0.000000</td>\n",
       "      <td>0.000000</td>\n",
       "      <td>14.454200</td>\n",
       "      <td>0.000000</td>\n",
       "    </tr>\n",
       "    <tr>\n",
       "      <th>75%</th>\n",
       "      <td>3.000000</td>\n",
       "      <td>1.000000</td>\n",
       "      <td>0.000000</td>\n",
       "      <td>31.275000</td>\n",
       "      <td>1.000000</td>\n",
       "    </tr>\n",
       "    <tr>\n",
       "      <th>max</th>\n",
       "      <td>3.000000</td>\n",
       "      <td>8.000000</td>\n",
       "      <td>9.000000</td>\n",
       "      <td>512.329200</td>\n",
       "      <td>1.000000</td>\n",
       "    </tr>\n",
       "  </tbody>\n",
       "</table>\n",
       "</div>"
      ],
      "text/plain": [
       "            Pclass        SibSp        Parch         Fare     Survived\n",
       "count  1309.000000  1309.000000  1309.000000  1308.000000  1309.000000\n",
       "mean      2.294882     0.498854     0.385027    33.295479     0.381971\n",
       "std       0.837836     1.041658     0.865560    51.758668     0.486055\n",
       "min       1.000000     0.000000     0.000000     0.000000     0.000000\n",
       "25%       2.000000     0.000000     0.000000     7.895800     0.000000\n",
       "50%       3.000000     0.000000     0.000000    14.454200     0.000000\n",
       "75%       3.000000     1.000000     0.000000    31.275000     1.000000\n",
       "max       3.000000     8.000000     9.000000   512.329200     1.000000"
      ]
     },
     "execution_count": 27,
     "metadata": {},
     "output_type": "execute_result"
    }
   ],
   "source": [
    "titanic.describe()"
   ]
  },
  {
   "cell_type": "code",
   "execution_count": 28,
   "metadata": {},
   "outputs": [
    {
     "data": {
      "text/plain": [
       "<Axes: >"
      ]
     },
     "execution_count": 28,
     "metadata": {},
     "output_type": "execute_result"
    },
    {
     "data": {
      "image/png": "[encoded data removed]",
      "text/plain": [
       "<Figure size 640x480 with 1 Axes>"
      ]
     },
     "metadata": {},
     "output_type": "display_data"
    }
   ],
   "source": [
    "titanic['Fare'].plot(kind = 'box')"
   ]
  },
  {
   "cell_type": "markdown",
   "metadata": {
    "id": "l4nvHvPefo6P"
   },
   "source": [
    "**UNIVARIATE ANALYSIS**"
   ]
  },
  {
   "cell_type": "code",
   "execution_count": null,
   "metadata": {
    "colab": {
     "base_uri": "https://localhost:8080/",
     "height": 407
    },
    "id": "1orJzSp0fwMI",
    "outputId": "55045032-2da4-4c6d-bd7f-27c697505060"
   },
   "outputs": [
    {
     "data": {
      "text/html": [
       "\n",
       "  <div id=\"df-23018128-95b9-434a-be6c-3661ea2f36fb\">\n",
       "    <div class=\"colab-df-container\">\n",
       "      <div>\n",
       "<style scoped>\n",
       "    .dataframe tbody tr th:only-of-type {\n",
       "        vertical-align: middle;\n",
       "    }\n",
       "\n",
       "    .dataframe tbody tr th {\n",
       "        vertical-align: top;\n",
       "    }\n",
       "\n",
       "    .dataframe thead th {\n",
       "        text-align: right;\n",
       "    }\n",
       "</style>\n",
       "<table border=\"1\" class=\"dataframe\">\n",
       "  <thead>\n",
       "    <tr style=\"text-align: right;\">\n",
       "      <th></th>\n",
       "      <th>Name</th>\n",
       "      <th>Sex</th>\n",
       "      <th>Age</th>\n",
       "      <th>Pclass</th>\n",
       "      <th>SibSp</th>\n",
       "      <th>Parch</th>\n",
       "      <th>Ticket</th>\n",
       "      <th>Fare</th>\n",
       "      <th>Cabin</th>\n",
       "      <th>Embarked</th>\n",
       "      <th>Survived</th>\n",
       "    </tr>\n",
       "  </thead>\n",
       "  <tbody>\n",
       "    <tr>\n",
       "      <th>462</th>\n",
       "      <td>Howard, Miss. May Elizabeth</td>\n",
       "      <td>female</td>\n",
       "      <td>NaN</td>\n",
       "      <td>3</td>\n",
       "      <td>0</td>\n",
       "      <td>0</td>\n",
       "      <td>A. 2. 39186</td>\n",
       "      <td>8.0500</td>\n",
       "      <td>NaN</td>\n",
       "      <td>S</td>\n",
       "      <td>1</td>\n",
       "    </tr>\n",
       "    <tr>\n",
       "      <th>1119</th>\n",
       "      <td>Webber, Mr. James</td>\n",
       "      <td>male</td>\n",
       "      <td>NaN</td>\n",
       "      <td>3</td>\n",
       "      <td>0</td>\n",
       "      <td>0</td>\n",
       "      <td>SOTON/OQ 3101316</td>\n",
       "      <td>8.0500</td>\n",
       "      <td>NaN</td>\n",
       "      <td>S</td>\n",
       "      <td>0</td>\n",
       "    </tr>\n",
       "    <tr>\n",
       "      <th>1272</th>\n",
       "      <td>Leyson, Mr. Robert William Norman</td>\n",
       "      <td>male</td>\n",
       "      <td>24.0</td>\n",
       "      <td>2</td>\n",
       "      <td>0</td>\n",
       "      <td>0</td>\n",
       "      <td>C.A. 29566</td>\n",
       "      <td>10.5000</td>\n",
       "      <td>NaN</td>\n",
       "      <td>S</td>\n",
       "      <td>0</td>\n",
       "    </tr>\n",
       "    <tr>\n",
       "      <th>1120</th>\n",
       "      <td>Mannion, Miss. Margareth</td>\n",
       "      <td>female</td>\n",
       "      <td>NaN</td>\n",
       "      <td>3</td>\n",
       "      <td>0</td>\n",
       "      <td>0</td>\n",
       "      <td>36866</td>\n",
       "      <td>7.7375</td>\n",
       "      <td>NaN</td>\n",
       "      <td>Q</td>\n",
       "      <td>1</td>\n",
       "    </tr>\n",
       "    <tr>\n",
       "      <th>93</th>\n",
       "      <td>Coelho, Mr. Domingos Fernandeo</td>\n",
       "      <td>male</td>\n",
       "      <td>20.0</td>\n",
       "      <td>3</td>\n",
       "      <td>0</td>\n",
       "      <td>0</td>\n",
       "      <td>SOTON/O.Q. 3101307</td>\n",
       "      <td>7.0500</td>\n",
       "      <td>NaN</td>\n",
       "      <td>S</td>\n",
       "      <td>0</td>\n",
       "    </tr>\n",
       "    <tr>\n",
       "      <th>774</th>\n",
       "      <td>Emanuel, Miss. Virginia Ethel</td>\n",
       "      <td>female</td>\n",
       "      <td>5.0</td>\n",
       "      <td>3</td>\n",
       "      <td>0</td>\n",
       "      <td>0</td>\n",
       "      <td>364516</td>\n",
       "      <td>12.4750</td>\n",
       "      <td>NaN</td>\n",
       "      <td>S</td>\n",
       "      <td>1</td>\n",
       "    </tr>\n",
       "    <tr>\n",
       "      <th>493</th>\n",
       "      <td>Cor, Mr. Ivan</td>\n",
       "      <td>male</td>\n",
       "      <td>27.0</td>\n",
       "      <td>3</td>\n",
       "      <td>0</td>\n",
       "      <td>0</td>\n",
       "      <td>349229</td>\n",
       "      <td>7.8958</td>\n",
       "      <td>NaN</td>\n",
       "      <td>S</td>\n",
       "      <td>0</td>\n",
       "    </tr>\n",
       "    <tr>\n",
       "      <th>1295</th>\n",
       "      <td>Marvin, Mr. Daniel Warner</td>\n",
       "      <td>male</td>\n",
       "      <td>19.0</td>\n",
       "      <td>1</td>\n",
       "      <td>1</td>\n",
       "      <td>0</td>\n",
       "      <td>113773</td>\n",
       "      <td>53.1000</td>\n",
       "      <td>D30</td>\n",
       "      <td>S</td>\n",
       "      <td>0</td>\n",
       "    </tr>\n",
       "    <tr>\n",
       "      <th>310</th>\n",
       "      <td>Daniel, Mr. Robert Williams</td>\n",
       "      <td>male</td>\n",
       "      <td>27.0</td>\n",
       "      <td>1</td>\n",
       "      <td>0</td>\n",
       "      <td>0</td>\n",
       "      <td>113804</td>\n",
       "      <td>30.5000</td>\n",
       "      <td>NaN</td>\n",
       "      <td>S</td>\n",
       "      <td>1</td>\n",
       "    </tr>\n",
       "    <tr>\n",
       "      <th>317</th>\n",
       "      <td>Sage, Master. Thomas Henry</td>\n",
       "      <td>male</td>\n",
       "      <td>NaN</td>\n",
       "      <td>3</td>\n",
       "      <td>8</td>\n",
       "      <td>2</td>\n",
       "      <td>CA. 2343</td>\n",
       "      <td>69.5500</td>\n",
       "      <td>NaN</td>\n",
       "      <td>S</td>\n",
       "      <td>0</td>\n",
       "    </tr>\n",
       "  </tbody>\n",
       "</table>\n",
       "</div>\n",
       "      <button class=\"colab-df-convert\" onclick=\"convertToInteractive('df-23018128-95b9-434a-be6c-3661ea2f36fb')\"\n",
       "              title=\"Convert this dataframe to an interactive table.\"\n",
       "              style=\"display:none;\">\n",
       "        \n",
       "  <svg xmlns=\"http://www.w3.org/2000/svg\" height=\"24px\"viewBox=\"0 0 24 24\"\n",
       "       width=\"24px\">\n",
       "    <path d=\"M0 0h24v24H0V0z\" fill=\"none\"/>\n",
       "    <path d=\"M18.56 5.44l.94 2.06.94-2.06 2.06-.94-2.06-.94-.94-2.06-.94 2.06-2.06.94zm-11 1L8.5 8.5l.94-2.06 2.06-.94-2.06-.94L8.5 2.5l-.94 2.06-2.06.94zm10 10l.94 2.06.94-2.06 2.06-.94-2.06-.94-.94-2.06-.94 2.06-2.06.94z\"/><path d=\"M17.41 7.96l-1.37-1.37c-.4-.4-.92-.59-1.43-.59-.52 0-1.04.2-1.43.59L10.3 9.45l-7.72 7.72c-.78.78-.78 2.05 0 2.83L4 21.41c.39.39.9.59 1.41.59.51 0 1.02-.2 1.41-.59l7.78-7.78 2.81-2.81c.8-.78.8-2.07 0-2.86zM5.41 20L4 18.59l7.72-7.72 1.47 1.35L5.41 20z\"/>\n",
       "  </svg>\n",
       "      </button>\n",
       "      \n",
       "  <style>\n",
       "    .colab-df-container {\n",
       "      display:flex;\n",
       "      flex-wrap:wrap;\n",
       "      gap: 12px;\n",
       "    }\n",
       "\n",
       "    .colab-df-convert {\n",
       "      background-color: #E8F0FE;\n",
       "      border: none;\n",
       "      border-radius: 50%;\n",
       "      cursor: pointer;\n",
       "      display: none;\n",
       "      fill: #1967D2;\n",
       "      height: 32px;\n",
       "      padding: 0 0 0 0;\n",
       "      width: 32px;\n",
       "    }\n",
       "\n",
       "    .colab-df-convert:hover {\n",
       "      background-color: #E2EBFA;\n",
       "      box-shadow: 0px 1px 2px rgba(60, 64, 67, 0.3), 0px 1px 3px 1px rgba(60, 64, 67, 0.15);\n",
       "      fill: #174EA6;\n",
       "    }\n",
       "\n",
       "    [theme=dark] .colab-df-convert {\n",
       "      background-color: #3B4455;\n",
       "      fill: #D2E3FC;\n",
       "    }\n",
       "\n",
       "    [theme=dark] .colab-df-convert:hover {\n",
       "      background-color: #434B5C;\n",
       "      box-shadow: 0px 1px 3px 1px rgba(0, 0, 0, 0.15);\n",
       "      filter: drop-shadow(0px 1px 2px rgba(0, 0, 0, 0.3));\n",
       "      fill: #FFFFFF;\n",
       "    }\n",
       "  </style>\n",
       "\n",
       "      <script>\n",
       "        const buttonEl =\n",
       "          document.querySelector('#df-23018128-95b9-434a-be6c-3661ea2f36fb button.colab-df-convert');\n",
       "        buttonEl.style.display =\n",
       "          google.colab.kernel.accessAllowed ? 'block' : 'none';\n",
       "\n",
       "        async function convertToInteractive(key) {\n",
       "          const element = document.querySelector('#df-23018128-95b9-434a-be6c-3661ea2f36fb');\n",
       "          const dataTable =\n",
       "            await google.colab.kernel.invokeFunction('convertToInteractive',\n",
       "                                                     [key], {});\n",
       "          if (!dataTable) return;\n",
       "\n",
       "          const docLinkHtml = 'Like what you see? Visit the ' +\n",
       "            '<a target=\"_blank\" href=https://colab.research.google.com/notebooks/data_table.ipynb>data table notebook</a>'\n",
       "            + ' to learn more about interactive tables.';\n",
       "          element.innerHTML = '';\n",
       "          dataTable['output_type'] = 'display_data';\n",
       "          await google.colab.output.renderOutput(dataTable, element);\n",
       "          const docLink = document.createElement('div');\n",
       "          docLink.innerHTML = docLinkHtml;\n",
       "          element.appendChild(docLink);\n",
       "        }\n",
       "      </script>\n",
       "    </div>\n",
       "  </div>\n",
       "  "
      ],
      "text/plain": [
       "                                   Name     Sex   Age  Pclass  SibSp  Parch  \\\n",
       "462         Howard, Miss. May Elizabeth  female   NaN       3      0      0   \n",
       "1119                  Webber, Mr. James    male   NaN       3      0      0   \n",
       "1272  Leyson, Mr. Robert William Norman    male  24.0       2      0      0   \n",
       "1120           Mannion, Miss. Margareth  female   NaN       3      0      0   \n",
       "93       Coelho, Mr. Domingos Fernandeo    male  20.0       3      0      0   \n",
       "774       Emanuel, Miss. Virginia Ethel  female   5.0       3      0      0   \n",
       "493                       Cor, Mr. Ivan    male  27.0       3      0      0   \n",
       "1295          Marvin, Mr. Daniel Warner    male  19.0       1      1      0   \n",
       "310         Daniel, Mr. Robert Williams    male  27.0       1      0      0   \n",
       "317          Sage, Master. Thomas Henry    male   NaN       3      8      2   \n",
       "\n",
       "                  Ticket     Fare Cabin Embarked  Survived  \n",
       "462          A. 2. 39186   8.0500   NaN        S         1  \n",
       "1119    SOTON/OQ 3101316   8.0500   NaN        S         0  \n",
       "1272          C.A. 29566  10.5000   NaN        S         0  \n",
       "1120               36866   7.7375   NaN        Q         1  \n",
       "93    SOTON/O.Q. 3101307   7.0500   NaN        S         0  \n",
       "774               364516  12.4750   NaN        S         1  \n",
       "493               349229   7.8958   NaN        S         0  \n",
       "1295              113773  53.1000   D30        S         0  \n",
       "310               113804  30.5000   NaN        S         1  \n",
       "317             CA. 2343  69.5500   NaN        S         0  "
      ]
     },
     "execution_count": 19,
     "metadata": {},
     "output_type": "execute_result"
    }
   ],
   "source": [
    "titanic.sample(10) #random sampling"
   ]
  },
  {
   "cell_type": "markdown",
   "metadata": {
    "id": "zb9aaIGmhQDB"
   },
   "source": [
    "How was survival?"
   ]
  },
  {
   "cell_type": "code",
   "execution_count": null,
   "metadata": {
    "colab": {
     "base_uri": "https://localhost:8080/"
    },
    "id": "vPAzJHichRge",
    "outputId": "0ddb11bf-2456-4047-acb2-757d18db03cb"
   },
   "outputs": [
    {
     "data": {
      "text/plain": [
       "0    809\n",
       "1    500\n",
       "Name: Survived, dtype: int64"
      ]
     },
     "execution_count": 21,
     "metadata": {},
     "output_type": "execute_result"
    }
   ],
   "source": [
    "titanic.Survived.value_counts()"
   ]
  },
  {
   "cell_type": "code",
   "execution_count": 31,
   "metadata": {
    "colab": {
     "base_uri": "https://localhost:8080/",
     "height": 467
    },
    "id": "EA2yBijHiKB7",
    "outputId": "ae83410c-2614-4df0-8e38-2e72a598fc3a"
   },
   "outputs": [
    {
     "data": {
      "text/plain": [
       "[Text(0.5, 1.0, 'People who survived Titanic')]"
      ]
     },
     "execution_count": 31,
     "metadata": {},
     "output_type": "execute_result"
    },
    {
     "data": {
      "image/png": "[encoded data removed]",
      "text/plain": [
       "<Figure size 640x480 with 1 Axes>"
      ]
     },
     "metadata": {},
     "output_type": "display_data"
    }
   ],
   "source": [
    "sns.countplot(x=titanic.Survived, palette=[\"red\", \"green\"]).set(title = 'People who survived Titanic')\n"
   ]
  },
  {
   "cell_type": "markdown",
   "metadata": {
    "id": "eUm7Za3hi2Uz"
   },
   "source": [
    "**How does the fare price distribute? #measuring central tendency**"
   ]
  },
  {
   "cell_type": "code",
   "execution_count": null,
   "metadata": {
    "colab": {
     "base_uri": "https://localhost:8080/"
    },
    "id": "o5fSLjCuPzHh",
    "outputId": "dbb3dcf3-7c7e-43d9-99cd-141acb0aaf01"
   },
   "outputs": [
    {
     "data": {
      "text/plain": [
       "count    1308.000000\n",
       "mean       33.295479\n",
       "std        51.758668\n",
       "min         0.000000\n",
       "25%         7.895800\n",
       "50%        14.454200\n",
       "75%        31.275000\n",
       "max       512.329200\n",
       "Name: Fare, dtype: float64"
      ]
     },
     "execution_count": 65,
     "metadata": {},
     "output_type": "execute_result"
    }
   ],
   "source": [
    "titanic.Fare.describe()"
   ]
  },
  {
   "cell_type": "code",
   "execution_count": null,
   "metadata": {
    "colab": {
     "base_uri": "https://localhost:8080/"
    },
    "id": "mxlqHfIai4gZ",
    "outputId": "c2a30073-531f-46a2-a81b-fdf1b5a7558f"
   },
   "outputs": [
    {
     "data": {
      "text/plain": [
       "33.3"
      ]
     },
     "execution_count": 23,
     "metadata": {},
     "output_type": "execute_result"
    }
   ],
   "source": [
    "titanic.Fare.mean().round(1)"
   ]
  },
  {
   "cell_type": "code",
   "execution_count": null,
   "metadata": {
    "colab": {
     "base_uri": "https://localhost:8080/"
    },
    "id": "JzhJwsaxi6gx",
    "outputId": "0d81e661-5ab7-4948-9bf0-675de2ca4bc1"
   },
   "outputs": [
    {
     "data": {
      "text/plain": [
       "14.5"
      ]
     },
     "execution_count": 27,
     "metadata": {},
     "output_type": "execute_result"
    }
   ],
   "source": [
    "titanic.Fare.median().round(1) #value lying in the middle of the dataset"
   ]
  },
  {
   "cell_type": "code",
   "execution_count": null,
   "metadata": {
    "colab": {
     "base_uri": "https://localhost:8080/"
    },
    "id": "xuhmVgR2i_5T",
    "outputId": "104bcb36-1fc4-4be6-9013-838ff6853050"
   },
   "outputs": [
    {
     "data": {
      "text/plain": [
       "0    8.05\n",
       "Name: Fare, dtype: float64"
      ]
     },
     "execution_count": 26,
     "metadata": {},
     "output_type": "execute_result"
    }
   ],
   "source": [
    "titanic.Fare.mode() #most commonly observed value"
   ]
  },
  {
   "cell_type": "markdown",
   "metadata": {
    "id": "sZ1zguP2kJlz"
   },
   "source": [
    "Measures of spread"
   ]
  },
  {
   "cell_type": "code",
   "execution_count": null,
   "metadata": {
    "colab": {
     "base_uri": "https://localhost:8080/"
    },
    "id": "2cbyfId_kPYY",
    "outputId": "80a0bb5d-1188-4c34-a373-2f060abb4097"
   },
   "outputs": [
    {
     "data": {
      "text/plain": [
       "0.0"
      ]
     },
     "execution_count": 30,
     "metadata": {},
     "output_type": "execute_result"
    }
   ],
   "source": [
    "titanic.Fare.min()"
   ]
  },
  {
   "cell_type": "code",
   "execution_count": null,
   "metadata": {
    "colab": {
     "base_uri": "https://localhost:8080/"
    },
    "id": "KnRPGaEKkeYA",
    "outputId": "1114cc48-5c63-4167-b73a-ae46f363387c"
   },
   "outputs": [
    {
     "data": {
      "text/plain": [
       "512.3292"
      ]
     },
     "execution_count": 31,
     "metadata": {},
     "output_type": "execute_result"
    }
   ],
   "source": [
    "titanic.Fare.max()"
   ]
  },
  {
   "cell_type": "code",
   "execution_count": null,
   "metadata": {
    "colab": {
     "base_uri": "https://localhost:8080/"
    },
    "id": "e5VAdK49kjc_",
    "outputId": "737a3abd-24dc-4c02-af01-f3fd0e0c23da"
   },
   "outputs": [
    {
     "data": {
      "text/plain": [
       "51.75866823917411"
      ]
     },
     "execution_count": 35,
     "metadata": {},
     "output_type": "execute_result"
    }
   ],
   "source": [
    "titanic.Fare.std() #standard deviation: measures the dispersion of a data set relative to its mean"
   ]
  },
  {
   "cell_type": "code",
   "execution_count": null,
   "metadata": {
    "id": "HzEwVd-olObh"
   },
   "outputs": [],
   "source": [
    "def range():                                      #why no output\n",
    " return titanic.Fare.max() - titanic.Fare.min()\n"
   ]
  },
  {
   "cell_type": "markdown",
   "metadata": {
    "id": "KSxZXfS1oRr5"
   },
   "source": [
    "plotting a histogram to see fare distribution"
   ]
  },
  {
   "cell_type": "code",
   "execution_count": 32,
   "metadata": {
    "colab": {
     "base_uri": "https://localhost:8080/",
     "height": 467
    },
    "id": "QSJ425qXnjel",
    "outputId": "771b0bf4-aecc-45f2-fb2f-a5843f2196d6"
   },
   "outputs": [
    {
     "data": {
      "text/plain": [
       "[Text(0.5, 1.0, 'Fare Distribution')]"
      ]
     },
     "execution_count": 32,
     "metadata": {},
     "output_type": "execute_result"
    },
    {
     "data": {
      "image/png": "[encoded data removed]",
      "text/plain": [
       "<Figure size 640x480 with 1 Axes>"
      ]
     },
     "metadata": {},
     "output_type": "display_data"
    }
   ],
   "source": [
    "sns.histplot(x=titanic.Fare, color = 'green').set(title = 'Fare Distribution')"
   ]
  },
  {
   "cell_type": "markdown",
   "metadata": {
    "id": "d7JkHgCCpMnr"
   },
   "source": [
    "**Two-dimensional analysis**\n",
    "\n",
    "How does fare price correlate with survival rate?"
   ]
  },
  {
   "cell_type": "code",
   "execution_count": 34,
   "metadata": {
    "colab": {
     "base_uri": "https://localhost:8080/",
     "height": 467
    },
    "id": "RmhS85b5pP1C",
    "outputId": "1a80112b-181c-403b-f023-5f303f2ce8de"
   },
   "outputs": [
    {
     "data": {
      "text/plain": [
       "[Text(0.5, 1.0, 'Did people who paid a higher fare survive Titanic better?')]"
      ]
     },
     "execution_count": 34,
     "metadata": {},
     "output_type": "execute_result"
    },
    {
     "data": {
      "image/png": "[encoded data removed]",
      "text/plain": [
       "<Figure size 640x480 with 1 Axes>"
      ]
     },
     "metadata": {},
     "output_type": "display_data"
    }
   ],
   "source": [
    "sns.kdeplot(x=titanic.Fare, hue=titanic.Survived).set(title = 'Did people who paid a higher fare survive Titanic better?')\n"
   ]
  },
  {
   "cell_type": "code",
   "execution_count": 35,
   "metadata": {
    "colab": {
     "base_uri": "https://localhost:8080/",
     "height": 524
    },
    "id": "a5wc3nR7qq7a",
    "outputId": "77fb8393-4dbc-4315-8aa1-0d9d32b80d2e"
   },
   "outputs": [
    {
     "data": {
      "text/plain": [
       "<seaborn.axisgrid.FacetGrid at 0x108251cf0>"
      ]
     },
     "execution_count": 35,
     "metadata": {},
     "output_type": "execute_result"
    },
    {
     "data": {
      "image/png": "[encoded data removed]",
      "text/plain": [
       "<Figure size 598x500 with 1 Axes>"
      ]
     },
     "metadata": {},
     "output_type": "display_data"
    }
   ],
   "source": [
    "sns.relplot(data=titanic, x=\"Fare\", y=\"Survived\", hue=\"Sex\").set(title = 'Comparing men and women survival rates')"
   ]
  },
  {
   "cell_type": "markdown",
   "metadata": {
    "id": "hEisYo6Fryta"
   },
   "source": [
    "Hence, females who paid higher amount of fares survuved better than men who paid higher amount for the tickets."
   ]
  },
  {
   "cell_type": "markdown",
   "metadata": {
    "id": "etC9_UqasRqH"
   },
   "source": [
    "How does survival relate with class?"
   ]
  },
  {
   "cell_type": "code",
   "execution_count": 37,
   "metadata": {
    "colab": {
     "base_uri": "https://localhost:8080/",
     "height": 175
    },
    "id": "3mBZwsnmsT-w",
    "outputId": "208fbe09-2b0c-4c01-fd67-1e0df514d3af"
   },
   "outputs": [
    {
     "data": {
      "text/html": [
       "<div>\n",
       "<style scoped>\n",
       "    .dataframe tbody tr th:only-of-type {\n",
       "        vertical-align: middle;\n",
       "    }\n",
       "\n",
       "    .dataframe tbody tr th {\n",
       "        vertical-align: top;\n",
       "    }\n",
       "\n",
       "    .dataframe thead th {\n",
       "        text-align: right;\n",
       "    }\n",
       "</style>\n",
       "<table border=\"1\" class=\"dataframe\">\n",
       "  <thead>\n",
       "    <tr style=\"text-align: right;\">\n",
       "      <th>Survived</th>\n",
       "      <th>0</th>\n",
       "      <th>1</th>\n",
       "    </tr>\n",
       "    <tr>\n",
       "      <th>Pclass</th>\n",
       "      <th></th>\n",
       "      <th></th>\n",
       "    </tr>\n",
       "  </thead>\n",
       "  <tbody>\n",
       "    <tr>\n",
       "      <th>1</th>\n",
       "      <td>123</td>\n",
       "      <td>200</td>\n",
       "    </tr>\n",
       "    <tr>\n",
       "      <th>2</th>\n",
       "      <td>158</td>\n",
       "      <td>119</td>\n",
       "    </tr>\n",
       "    <tr>\n",
       "      <th>3</th>\n",
       "      <td>528</td>\n",
       "      <td>181</td>\n",
       "    </tr>\n",
       "  </tbody>\n",
       "</table>\n",
       "</div>"
      ],
      "text/plain": [
       "Survived    0    1\n",
       "Pclass            \n",
       "1         123  200\n",
       "2         158  119\n",
       "3         528  181"
      ]
     },
     "execution_count": 37,
     "metadata": {},
     "output_type": "execute_result"
    }
   ],
   "source": [
    "pd.crosstab(titanic.Pclass, titanic.Survived)\n",
    "\n"
   ]
  },
  {
   "cell_type": "code",
   "execution_count": 41,
   "metadata": {},
   "outputs": [
    {
     "data": {
      "text/html": [
       "<div>\n",
       "<style scoped>\n",
       "    .dataframe tbody tr th:only-of-type {\n",
       "        vertical-align: middle;\n",
       "    }\n",
       "\n",
       "    .dataframe tbody tr th {\n",
       "        vertical-align: top;\n",
       "    }\n",
       "\n",
       "    .dataframe thead tr th {\n",
       "        text-align: left;\n",
       "    }\n",
       "\n",
       "    .dataframe thead tr:last-of-type th {\n",
       "        text-align: right;\n",
       "    }\n",
       "</style>\n",
       "<table border=\"1\" class=\"dataframe\">\n",
       "  <thead>\n",
       "    <tr>\n",
       "      <th></th>\n",
       "      <th colspan=\"2\" halign=\"left\">count</th>\n",
       "    </tr>\n",
       "    <tr>\n",
       "      <th>Sex</th>\n",
       "      <th>female</th>\n",
       "      <th>male</th>\n",
       "    </tr>\n",
       "    <tr>\n",
       "      <th>Pclass</th>\n",
       "      <th></th>\n",
       "      <th></th>\n",
       "    </tr>\n",
       "  </thead>\n",
       "  <tbody>\n",
       "    <tr>\n",
       "      <th>1</th>\n",
       "      <td>144</td>\n",
       "      <td>179</td>\n",
       "    </tr>\n",
       "    <tr>\n",
       "      <th>2</th>\n",
       "      <td>106</td>\n",
       "      <td>171</td>\n",
       "    </tr>\n",
       "    <tr>\n",
       "      <th>3</th>\n",
       "      <td>216</td>\n",
       "      <td>493</td>\n",
       "    </tr>\n",
       "  </tbody>\n",
       "</table>\n",
       "</div>"
      ],
      "text/plain": [
       "        count     \n",
       "Sex    female male\n",
       "Pclass            \n",
       "1         144  179\n",
       "2         106  171\n",
       "3         216  493"
      ]
     },
     "execution_count": 41,
     "metadata": {},
     "output_type": "execute_result"
    }
   ],
   "source": [
    "#pd.crosstab(index=titanic.Pclass, columns=titanic.Sex, values=titanic.Survived, aggfunc=['count'])"
   ]
  },
  {
   "cell_type": "code",
   "execution_count": null,
   "metadata": {
    "colab": {
     "base_uri": "https://localhost:8080/",
     "height": 467
    },
    "id": "wf45rbNxsagw",
    "outputId": "b38d97e3-a5b7-44dd-e256-e89282de8582"
   },
   "outputs": [
    {
     "data": {
      "text/plain": [
       "<Axes: xlabel='Pclass', ylabel='count'>"
      ]
     },
     "execution_count": 58,
     "metadata": {},
     "output_type": "execute_result"
    },
    {
     "data": {
      "image/png": "[encoded data removed]",
      "text/plain": [
       "<Figure size 640x480 with 1 Axes>"
      ]
     },
     "metadata": {},
     "output_type": "display_data"
    }
   ],
   "source": [
    "sns.countplot(hue=titanic.Survived, x=titanic.Pclass, palette=[\"Pink\", \"purple\"])"
   ]
  },
  {
   "cell_type": "markdown",
   "metadata": {
    "id": "5PjJTdLMsiFJ"
   },
   "source": [
    "How does survival relate with sex?"
   ]
  },
  {
   "cell_type": "code",
   "execution_count": null,
   "metadata": {
    "colab": {
     "base_uri": "https://localhost:8080/",
     "height": 143
    },
    "id": "267eKmLGsmZ-",
    "outputId": "a6e937a6-8802-4ffb-d2f0-0c48471e6ed1"
   },
   "outputs": [
    {
     "data": {
      "text/html": [
       "\n",
       "  <div id=\"df-1fb3e8a6-8e0a-4603-a093-b50feba181a9\">\n",
       "    <div class=\"colab-df-container\">\n",
       "      <div>\n",
       "<style scoped>\n",
       "    .dataframe tbody tr th:only-of-type {\n",
       "        vertical-align: middle;\n",
       "    }\n",
       "\n",
       "    .dataframe tbody tr th {\n",
       "        vertical-align: top;\n",
       "    }\n",
       "\n",
       "    .dataframe thead th {\n",
       "        text-align: right;\n",
       "    }\n",
       "</style>\n",
       "<table border=\"1\" class=\"dataframe\">\n",
       "  <thead>\n",
       "    <tr style=\"text-align: right;\">\n",
       "      <th>Survived</th>\n",
       "      <th>0</th>\n",
       "      <th>1</th>\n",
       "    </tr>\n",
       "    <tr>\n",
       "      <th>Sex</th>\n",
       "      <th></th>\n",
       "      <th></th>\n",
       "    </tr>\n",
       "  </thead>\n",
       "  <tbody>\n",
       "    <tr>\n",
       "      <th>female</th>\n",
       "      <td>127</td>\n",
       "      <td>339</td>\n",
       "    </tr>\n",
       "    <tr>\n",
       "      <th>male</th>\n",
       "      <td>682</td>\n",
       "      <td>161</td>\n",
       "    </tr>\n",
       "  </tbody>\n",
       "</table>\n",
       "</div>\n",
       "      <button class=\"colab-df-convert\" onclick=\"convertToInteractive('df-1fb3e8a6-8e0a-4603-a093-b50feba181a9')\"\n",
       "              title=\"Convert this dataframe to an interactive table.\"\n",
       "              style=\"display:none;\">\n",
       "        \n",
       "  <svg xmlns=\"http://www.w3.org/2000/svg\" height=\"24px\"viewBox=\"0 0 24 24\"\n",
       "       width=\"24px\">\n",
       "    <path d=\"M0 0h24v24H0V0z\" fill=\"none\"/>\n",
       "    <path d=\"M18.56 5.44l.94 2.06.94-2.06 2.06-.94-2.06-.94-.94-2.06-.94 2.06-2.06.94zm-11 1L8.5 8.5l.94-2.06 2.06-.94-2.06-.94L8.5 2.5l-.94 2.06-2.06.94zm10 10l.94 2.06.94-2.06 2.06-.94-2.06-.94-.94-2.06-.94 2.06-2.06.94z\"/><path d=\"M17.41 7.96l-1.37-1.37c-.4-.4-.92-.59-1.43-.59-.52 0-1.04.2-1.43.59L10.3 9.45l-7.72 7.72c-.78.78-.78 2.05 0 2.83L4 21.41c.39.39.9.59 1.41.59.51 0 1.02-.2 1.41-.59l7.78-7.78 2.81-2.81c.8-.78.8-2.07 0-2.86zM5.41 20L4 18.59l7.72-7.72 1.47 1.35L5.41 20z\"/>\n",
       "  </svg>\n",
       "      </button>\n",
       "      \n",
       "  <style>\n",
       "    .colab-df-container {\n",
       "      display:flex;\n",
       "      flex-wrap:wrap;\n",
       "      gap: 12px;\n",
       "    }\n",
       "\n",
       "    .colab-df-convert {\n",
       "      background-color: #E8F0FE;\n",
       "      border: none;\n",
       "      border-radius: 50%;\n",
       "      cursor: pointer;\n",
       "      display: none;\n",
       "      fill: #1967D2;\n",
       "      height: 32px;\n",
       "      padding: 0 0 0 0;\n",
       "      width: 32px;\n",
       "    }\n",
       "\n",
       "    .colab-df-convert:hover {\n",
       "      background-color: #E2EBFA;\n",
       "      box-shadow: 0px 1px 2px rgba(60, 64, 67, 0.3), 0px 1px 3px 1px rgba(60, 64, 67, 0.15);\n",
       "      fill: #174EA6;\n",
       "    }\n",
       "\n",
       "    [theme=dark] .colab-df-convert {\n",
       "      background-color: #3B4455;\n",
       "      fill: #D2E3FC;\n",
       "    }\n",
       "\n",
       "    [theme=dark] .colab-df-convert:hover {\n",
       "      background-color: #434B5C;\n",
       "      box-shadow: 0px 1px 3px 1px rgba(0, 0, 0, 0.15);\n",
       "      filter: drop-shadow(0px 1px 2px rgba(0, 0, 0, 0.3));\n",
       "      fill: #FFFFFF;\n",
       "    }\n",
       "  </style>\n",
       "\n",
       "      <script>\n",
       "        const buttonEl =\n",
       "          document.querySelector('#df-1fb3e8a6-8e0a-4603-a093-b50feba181a9 button.colab-df-convert');\n",
       "        buttonEl.style.display =\n",
       "          google.colab.kernel.accessAllowed ? 'block' : 'none';\n",
       "\n",
       "        async function convertToInteractive(key) {\n",
       "          const element = document.querySelector('#df-1fb3e8a6-8e0a-4603-a093-b50feba181a9');\n",
       "          const dataTable =\n",
       "            await google.colab.kernel.invokeFunction('convertToInteractive',\n",
       "                                                     [key], {});\n",
       "          if (!dataTable) return;\n",
       "\n",
       "          const docLinkHtml = 'Like what you see? Visit the ' +\n",
       "            '<a target=\"_blank\" href=https://colab.research.google.com/notebooks/data_table.ipynb>data table notebook</a>'\n",
       "            + ' to learn more about interactive tables.';\n",
       "          element.innerHTML = '';\n",
       "          dataTable['output_type'] = 'display_data';\n",
       "          await google.colab.output.renderOutput(dataTable, element);\n",
       "          const docLink = document.createElement('div');\n",
       "          docLink.innerHTML = docLinkHtml;\n",
       "          element.appendChild(docLink);\n",
       "        }\n",
       "      </script>\n",
       "    </div>\n",
       "  </div>\n",
       "  "
      ],
      "text/plain": [
       "Survived    0    1\n",
       "Sex               \n",
       "female    127  339\n",
       "male      682  161"
      ]
     },
     "execution_count": 59,
     "metadata": {},
     "output_type": "execute_result"
    }
   ],
   "source": [
    "pd.crosstab(titanic.Sex, titanic.Survived)"
   ]
  },
  {
   "cell_type": "code",
   "execution_count": null,
   "metadata": {
    "colab": {
     "base_uri": "https://localhost:8080/",
     "height": 467
    },
    "id": "DCwJfr29s2FF",
    "outputId": "78e33395-09ae-4903-bcb1-3845f0f9b093"
   },
   "outputs": [
    {
     "data": {
      "text/plain": [
       "<Axes: xlabel='Sex', ylabel='count'>"
      ]
     },
     "execution_count": 61,
     "metadata": {},
     "output_type": "execute_result"
    },
    {
     "data": {
      "image/png": "[encoded data removed]",
      "text/plain": [
       "<Figure size 640x480 with 1 Axes>"
      ]
     },
     "metadata": {},
     "output_type": "display_data"
    }
   ],
   "source": [
    "sns.countplot(hue=titanic.Survived, x=titanic.Sex, palette=[\"black\", \"green\"])"
   ]
  }
 ],
 "metadata": {
  "colab": {
   "provenance": [],
   "toc_visible": true
  },
  "kernelspec": {
   "display_name": "Python 3 (ipykernel)",
   "language": "python",
   "name": "python3"
  },
  "language_info": {
   "codemirror_mode": {
    "name": "ipython",
    "version": 3
   },
   "file_extension": ".py",
   "mimetype": "text/x-python",
   "name": "python",
   "nbconvert_exporter": "python",
   "pygments_lexer": "ipython3",
   "version": "3.10.9"
  }
 },
 "nbformat": 4,
 "nbformat_minor": 1
}
